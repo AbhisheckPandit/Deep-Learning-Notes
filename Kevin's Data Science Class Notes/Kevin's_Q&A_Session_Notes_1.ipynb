{
  "nbformat": 4,
  "nbformat_minor": 0,
  "metadata": {
    "colab": {
      "name": "Kevin's Q&A Session Notes 1.ipynb",
      "provenance": []
    },
    "kernelspec": {
      "name": "python3",
      "display_name": "Python 3"
    }
  },
  "cells": [
    {
      "cell_type": "code",
      "metadata": {
        "id": "DhDnME-iUs3j",
        "colab_type": "code",
        "colab": {}
      },
      "source": [
        "df['Survived'] # Single Frame - Series 1D \n",
        "df[['Survived']] # Double Frame - Pandas DF 2D \n",
        "\n",
        "df.to_numpy() # Officially the best way to convert DF to numpy"
      ],
      "execution_count": 0,
      "outputs": []
    },
    {
      "cell_type": "markdown",
      "metadata": {
        "id": "wOFbihZwVjf8",
        "colab_type": "text"
      },
      "source": [
        "In a multi label problem requires a 2D array - A DataFrame.  \n",
        "We are dealing with a single label problem here. - Hence a 1D Series. "
      ]
    },
    {
      "cell_type": "code",
      "metadata": {
        "id": "fTWoYKoiViao",
        "colab_type": "code",
        "colab": {}
      },
      "source": [
        "# sklearn has 5 different solvers \n",
        "\n",
        "# convergence warning is often related to solver - simply change the solver \n",
        "\n",
        "# Any time a pseudo-random process in the code - set the random state for \n",
        "#                                                reproducibility "
      ],
      "execution_count": 0,
      "outputs": []
    },
    {
      "cell_type": "code",
      "metadata": {
        "id": "fgO9VoF5Wt7p",
        "colab_type": "code",
        "colab": {}
      },
      "source": [
        "# LrCV a variation of Lr Class \n",
        "# LrCV doesnt integrate well with the rest of sklearn \n",
        "# Lr is super flexible. "
      ],
      "execution_count": 0,
      "outputs": []
    },
    {
      "cell_type": "code",
      "metadata": {
        "id": "AzJEk0G8WxEV",
        "colab_type": "code",
        "colab": {}
      },
      "source": [
        "# CV Goal - estimate future model performance \n",
        "# You should fit model to the entire Dataset after tuning the hyperparameters "
      ],
      "execution_count": 0,
      "outputs": []
    },
    {
      "cell_type": "code",
      "metadata": {
        "id": "-A0Y5P4lYH9G",
        "colab_type": "code",
        "colab": {}
      },
      "source": [
        "# Find the evauation metric that matches your 'PRIORITIES' \n",
        "# Spam Filter - Precision \n",
        "# Credit Card Fraud - Recall  "
      ],
      "execution_count": 0,
      "outputs": []
    },
    {
      "cell_type": "code",
      "metadata": {
        "id": "rW4-p3DYZYaL",
        "colab_type": "code",
        "colab": {}
      },
      "source": [
        "# If you train a model with X features, you can ONLY test the model with X features. \n",
        "# When handle_unknown='ignore', All unknown categories are represented as zeroes.\n",
        "# Typically leave handle_unknown to deafault, ie Error. \n",
        "# Either you remove that feature, or find training data that contains that feature.  "
      ],
      "execution_count": 0,
      "outputs": []
    },
    {
      "cell_type": "code",
      "metadata": {
        "id": "fIfAFcDCbsbt",
        "colab_type": "code",
        "colab": {}
      },
      "source": [
        "# Oridnal Data - Natural Logical Ordering\n",
        "#              - if numerical - just leave it as is\n",
        "#              - if string\n",
        "#                   - import ordinal encoder and tell the logical \n",
        "#                       progression of the categories\n",
        "#                   - turns the cateogries into numbers, can be added in col_transformer \n",
        "# What if we get new oridnal categories? Kevin doesn't know yet. \n",
        "# Nominal Data - Unordered - use OHE "
      ],
      "execution_count": 0,
      "outputs": []
    },
    {
      "cell_type": "code",
      "metadata": {
        "id": "IIQIh_JXefQM",
        "colab_type": "code",
        "colab": {}
      },
      "source": [
        "# OHE - unordered categorcial data \n",
        "# OE - ordered categorical data\n",
        "# LE - Similar to OE, except: \n",
        "# 1. LE is for labels - Targets! \n",
        "# 2. LE is for alphabetical only \n",
        "# Not much use of LE in the new sklearn "
      ],
      "execution_count": 0,
      "outputs": []
    },
    {
      "cell_type": "code",
      "metadata": {
        "id": "DqHbGpw6fQgn",
        "colab_type": "code",
        "colab": {}
      },
      "source": [
        "# in col_transformer, 'remainder' has 3 options \n",
        "# 1 - passthrough \n",
        "# 2 - drop \n",
        "# 3 - col_tran object - transform every unknown col "
      ],
      "execution_count": 0,
      "outputs": []
    },
    {
      "cell_type": "code",
      "metadata": {
        "id": "iBnOXKlhfzq0",
        "colab_type": "code",
        "colab": {}
      },
      "source": [
        "# ct.get_feature_names() - gets the name of all the transformed cols \n",
        "#                        - doesnt work with remainder='passthrough' \n",
        "#                        - 0.22.3 will fix this (coming out soon)"
      ],
      "execution_count": 0,
      "outputs": []
    },
    {
      "cell_type": "code",
      "metadata": {
        "id": "pTbZsFtcgjLs",
        "colab_type": "code",
        "colab": {}
      },
      "source": [
        "# col_transform - ways to specify cols \n",
        "# specify cols by position \n",
        "# specify by slicing \n",
        "# make_column_selector - use regex to select cols "
      ],
      "execution_count": 0,
      "outputs": []
    },
    {
      "cell_type": "code",
      "metadata": {
        "id": "CZ3K7xKVhMhJ",
        "colab_type": "code",
        "colab": {}
      },
      "source": [
        "# pipeline pipe.fit() modifies the underlying objects "
      ],
      "execution_count": 0,
      "outputs": []
    },
    {
      "cell_type": "code",
      "metadata": {
        "id": "B99f0CEbhk63",
        "colab_type": "code",
        "colab": {}
      },
      "source": [
        "# make_pipeline - assigns the names on its own - lowercase class name\n",
        "#               - results in more readable code \n",
        "# Piepline - forces you to name the steps \n",
        "#          - custom names are good for clarity when using grid_search()"
      ],
      "execution_count": 0,
      "outputs": []
    },
    {
      "cell_type": "code",
      "metadata": {
        "id": "ibyg1fI7i-jG",
        "colab_type": "code",
        "colab": {}
      },
      "source": [
        "# sklearn has 5 documentation pages \n",
        "# 1 - API Reference - find something \n",
        "# 2 - Class Documentation \n",
        "# 3 - User Guide - Context and advice \n",
        "# 4 - Examples - When 2,3 dont have complex enough examples \n",
        "# 5 - Glossary - When there is a term that I don't understand"
      ],
      "execution_count": 0,
      "outputs": []
    },
    {
      "cell_type": "code",
      "metadata": {
        "id": "9SFYXrBSkd9f",
        "colab_type": "code",
        "colab": {}
      },
      "source": [
        "# Dont usually create feature interactions \n",
        "# Doesnt scale really well \n",
        "# Tree based model can learn them anyway "
      ],
      "execution_count": 0,
      "outputs": []
    },
    {
      "cell_type": "code",
      "metadata": {
        "id": "I-35EBpHlGK2",
        "colab_type": "code",
        "colab": {}
      },
      "source": [
        "# OHE - 2D input - most sklearn preprocessors require 2D data\n",
        "# CVect - 1D input - not built to transform multiple docs (multiple cols)at once \n",
        "#       - pass multiple tuples for multiple docs/cols"
      ],
      "execution_count": 0,
      "outputs": []
    },
    {
      "cell_type": "markdown",
      "metadata": {
        "id": "VFMJIosKhG5P",
        "colab_type": "text"
      },
      "source": [
        "Happy to connect  \n",
        "\n",
        "https://www.linkedin.com/in/pranjall/"
      ]
    }
  ]
}