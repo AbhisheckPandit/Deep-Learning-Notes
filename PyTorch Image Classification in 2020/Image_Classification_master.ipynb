{
  "nbformat": 4,
  "nbformat_minor": 0,
  "metadata": {
    "colab": {
      "name": "Image Classification_master.ipynb",
      "provenance": [],
      "collapsed_sections": [],
      "toc_visible": true,
      "authorship_tag": "ABX9TyO9LDFQPmIchLsPFQc44Rkj",
      "include_colab_link": true
    },
    "kernelspec": {
      "name": "python3",
      "display_name": "Python 3"
    },
    "widgets": {
      "application/vnd.jupyter.widget-state+json": {
        "c271d43df5c74137a3916d11ba2649c0": {
          "model_module": "@jupyter-widgets/controls",
          "model_name": "HBoxModel",
          "state": {
            "_view_name": "HBoxView",
            "_dom_classes": [],
            "_model_name": "HBoxModel",
            "_view_module": "@jupyter-widgets/controls",
            "_model_module_version": "1.5.0",
            "_view_count": null,
            "_view_module_version": "1.5.0",
            "box_style": "",
            "layout": "IPY_MODEL_cfd5fec18ed54e578c9171dcfb4b6388",
            "_model_module": "@jupyter-widgets/controls",
            "children": [
              "IPY_MODEL_a919fddfd2ea4f1b8c0dbb62e5b3a07e",
              "IPY_MODEL_bd1d15bcada34570944bb26a9a698111"
            ]
          }
        },
        "cfd5fec18ed54e578c9171dcfb4b6388": {
          "model_module": "@jupyter-widgets/base",
          "model_name": "LayoutModel",
          "state": {
            "_view_name": "LayoutView",
            "grid_template_rows": null,
            "right": null,
            "justify_content": null,
            "_view_module": "@jupyter-widgets/base",
            "overflow": null,
            "_model_module_version": "1.2.0",
            "_view_count": null,
            "flex_flow": null,
            "width": null,
            "min_width": null,
            "border": null,
            "align_items": null,
            "bottom": null,
            "_model_module": "@jupyter-widgets/base",
            "top": null,
            "grid_column": null,
            "overflow_y": null,
            "overflow_x": null,
            "grid_auto_flow": null,
            "grid_area": null,
            "grid_template_columns": null,
            "flex": null,
            "_model_name": "LayoutModel",
            "justify_items": null,
            "grid_row": null,
            "max_height": null,
            "align_content": null,
            "visibility": null,
            "align_self": null,
            "height": null,
            "min_height": null,
            "padding": null,
            "grid_auto_rows": null,
            "grid_gap": null,
            "max_width": null,
            "order": null,
            "_view_module_version": "1.2.0",
            "grid_template_areas": null,
            "object_position": null,
            "object_fit": null,
            "grid_auto_columns": null,
            "margin": null,
            "display": null,
            "left": null
          }
        },
        "a919fddfd2ea4f1b8c0dbb62e5b3a07e": {
          "model_module": "@jupyter-widgets/controls",
          "model_name": "IntProgressModel",
          "state": {
            "_view_name": "ProgressView",
            "style": "IPY_MODEL_df5473a852544a67948cb78775f8fe7c",
            "_dom_classes": [],
            "description": "",
            "_model_name": "IntProgressModel",
            "bar_style": "success",
            "max": 1,
            "_view_module": "@jupyter-widgets/controls",
            "_model_module_version": "1.5.0",
            "value": 1,
            "_view_count": null,
            "_view_module_version": "1.5.0",
            "orientation": "horizontal",
            "min": 0,
            "description_tooltip": null,
            "_model_module": "@jupyter-widgets/controls",
            "layout": "IPY_MODEL_ecce4ba129614676baddf48904e5eb45"
          }
        },
        "bd1d15bcada34570944bb26a9a698111": {
          "model_module": "@jupyter-widgets/controls",
          "model_name": "HTMLModel",
          "state": {
            "_view_name": "HTMLView",
            "style": "IPY_MODEL_3cd952ed1dae480e9d73fba055f5415c",
            "_dom_classes": [],
            "description": "",
            "_model_name": "HTMLModel",
            "placeholder": "​",
            "_view_module": "@jupyter-widgets/controls",
            "_model_module_version": "1.5.0",
            "value": " 9920512/? [00:05&lt;00:00, 1781388.84it/s]",
            "_view_count": null,
            "_view_module_version": "1.5.0",
            "description_tooltip": null,
            "_model_module": "@jupyter-widgets/controls",
            "layout": "IPY_MODEL_5f5115aecf5348c1ac8e23257218d33a"
          }
        },
        "df5473a852544a67948cb78775f8fe7c": {
          "model_module": "@jupyter-widgets/controls",
          "model_name": "ProgressStyleModel",
          "state": {
            "_view_name": "StyleView",
            "_model_name": "ProgressStyleModel",
            "description_width": "initial",
            "_view_module": "@jupyter-widgets/base",
            "_model_module_version": "1.5.0",
            "_view_count": null,
            "_view_module_version": "1.2.0",
            "bar_color": null,
            "_model_module": "@jupyter-widgets/controls"
          }
        },
        "ecce4ba129614676baddf48904e5eb45": {
          "model_module": "@jupyter-widgets/base",
          "model_name": "LayoutModel",
          "state": {
            "_view_name": "LayoutView",
            "grid_template_rows": null,
            "right": null,
            "justify_content": null,
            "_view_module": "@jupyter-widgets/base",
            "overflow": null,
            "_model_module_version": "1.2.0",
            "_view_count": null,
            "flex_flow": null,
            "width": null,
            "min_width": null,
            "border": null,
            "align_items": null,
            "bottom": null,
            "_model_module": "@jupyter-widgets/base",
            "top": null,
            "grid_column": null,
            "overflow_y": null,
            "overflow_x": null,
            "grid_auto_flow": null,
            "grid_area": null,
            "grid_template_columns": null,
            "flex": null,
            "_model_name": "LayoutModel",
            "justify_items": null,
            "grid_row": null,
            "max_height": null,
            "align_content": null,
            "visibility": null,
            "align_self": null,
            "height": null,
            "min_height": null,
            "padding": null,
            "grid_auto_rows": null,
            "grid_gap": null,
            "max_width": null,
            "order": null,
            "_view_module_version": "1.2.0",
            "grid_template_areas": null,
            "object_position": null,
            "object_fit": null,
            "grid_auto_columns": null,
            "margin": null,
            "display": null,
            "left": null
          }
        },
        "3cd952ed1dae480e9d73fba055f5415c": {
          "model_module": "@jupyter-widgets/controls",
          "model_name": "DescriptionStyleModel",
          "state": {
            "_view_name": "StyleView",
            "_model_name": "DescriptionStyleModel",
            "description_width": "",
            "_view_module": "@jupyter-widgets/base",
            "_model_module_version": "1.5.0",
            "_view_count": null,
            "_view_module_version": "1.2.0",
            "_model_module": "@jupyter-widgets/controls"
          }
        },
        "5f5115aecf5348c1ac8e23257218d33a": {
          "model_module": "@jupyter-widgets/base",
          "model_name": "LayoutModel",
          "state": {
            "_view_name": "LayoutView",
            "grid_template_rows": null,
            "right": null,
            "justify_content": null,
            "_view_module": "@jupyter-widgets/base",
            "overflow": null,
            "_model_module_version": "1.2.0",
            "_view_count": null,
            "flex_flow": null,
            "width": null,
            "min_width": null,
            "border": null,
            "align_items": null,
            "bottom": null,
            "_model_module": "@jupyter-widgets/base",
            "top": null,
            "grid_column": null,
            "overflow_y": null,
            "overflow_x": null,
            "grid_auto_flow": null,
            "grid_area": null,
            "grid_template_columns": null,
            "flex": null,
            "_model_name": "LayoutModel",
            "justify_items": null,
            "grid_row": null,
            "max_height": null,
            "align_content": null,
            "visibility": null,
            "align_self": null,
            "height": null,
            "min_height": null,
            "padding": null,
            "grid_auto_rows": null,
            "grid_gap": null,
            "max_width": null,
            "order": null,
            "_view_module_version": "1.2.0",
            "grid_template_areas": null,
            "object_position": null,
            "object_fit": null,
            "grid_auto_columns": null,
            "margin": null,
            "display": null,
            "left": null
          }
        },
        "b34052415f87491798cf287e7a9d0690": {
          "model_module": "@jupyter-widgets/controls",
          "model_name": "HBoxModel",
          "state": {
            "_view_name": "HBoxView",
            "_dom_classes": [],
            "_model_name": "HBoxModel",
            "_view_module": "@jupyter-widgets/controls",
            "_model_module_version": "1.5.0",
            "_view_count": null,
            "_view_module_version": "1.5.0",
            "box_style": "",
            "layout": "IPY_MODEL_a5baba3e23544e7ea535caa3c366f9a7",
            "_model_module": "@jupyter-widgets/controls",
            "children": [
              "IPY_MODEL_f9195e548e484018b47a70366a59f538",
              "IPY_MODEL_542136419bb84b6694709ba247f0544e"
            ]
          }
        },
        "a5baba3e23544e7ea535caa3c366f9a7": {
          "model_module": "@jupyter-widgets/base",
          "model_name": "LayoutModel",
          "state": {
            "_view_name": "LayoutView",
            "grid_template_rows": null,
            "right": null,
            "justify_content": null,
            "_view_module": "@jupyter-widgets/base",
            "overflow": null,
            "_model_module_version": "1.2.0",
            "_view_count": null,
            "flex_flow": null,
            "width": null,
            "min_width": null,
            "border": null,
            "align_items": null,
            "bottom": null,
            "_model_module": "@jupyter-widgets/base",
            "top": null,
            "grid_column": null,
            "overflow_y": null,
            "overflow_x": null,
            "grid_auto_flow": null,
            "grid_area": null,
            "grid_template_columns": null,
            "flex": null,
            "_model_name": "LayoutModel",
            "justify_items": null,
            "grid_row": null,
            "max_height": null,
            "align_content": null,
            "visibility": null,
            "align_self": null,
            "height": null,
            "min_height": null,
            "padding": null,
            "grid_auto_rows": null,
            "grid_gap": null,
            "max_width": null,
            "order": null,
            "_view_module_version": "1.2.0",
            "grid_template_areas": null,
            "object_position": null,
            "object_fit": null,
            "grid_auto_columns": null,
            "margin": null,
            "display": null,
            "left": null
          }
        },
        "f9195e548e484018b47a70366a59f538": {
          "model_module": "@jupyter-widgets/controls",
          "model_name": "IntProgressModel",
          "state": {
            "_view_name": "ProgressView",
            "style": "IPY_MODEL_e5e8ba43bee94fc58bd59542f83f8764",
            "_dom_classes": [],
            "description": "",
            "_model_name": "IntProgressModel",
            "bar_style": "success",
            "max": 1,
            "_view_module": "@jupyter-widgets/controls",
            "_model_module_version": "1.5.0",
            "value": 1,
            "_view_count": null,
            "_view_module_version": "1.5.0",
            "orientation": "horizontal",
            "min": 0,
            "description_tooltip": null,
            "_model_module": "@jupyter-widgets/controls",
            "layout": "IPY_MODEL_69296da03cef4ad78a22b9bc6b1d2a23"
          }
        },
        "542136419bb84b6694709ba247f0544e": {
          "model_module": "@jupyter-widgets/controls",
          "model_name": "HTMLModel",
          "state": {
            "_view_name": "HTMLView",
            "style": "IPY_MODEL_41b73f5586ba444b82b71d071ccd0d32",
            "_dom_classes": [],
            "description": "",
            "_model_name": "HTMLModel",
            "placeholder": "​",
            "_view_module": "@jupyter-widgets/controls",
            "_model_module_version": "1.5.0",
            "value": " 32768/? [00:02&lt;00:00, 11365.17it/s]",
            "_view_count": null,
            "_view_module_version": "1.5.0",
            "description_tooltip": null,
            "_model_module": "@jupyter-widgets/controls",
            "layout": "IPY_MODEL_1dc154e91b4749c3ac6bbe8a099be398"
          }
        },
        "e5e8ba43bee94fc58bd59542f83f8764": {
          "model_module": "@jupyter-widgets/controls",
          "model_name": "ProgressStyleModel",
          "state": {
            "_view_name": "StyleView",
            "_model_name": "ProgressStyleModel",
            "description_width": "initial",
            "_view_module": "@jupyter-widgets/base",
            "_model_module_version": "1.5.0",
            "_view_count": null,
            "_view_module_version": "1.2.0",
            "bar_color": null,
            "_model_module": "@jupyter-widgets/controls"
          }
        },
        "69296da03cef4ad78a22b9bc6b1d2a23": {
          "model_module": "@jupyter-widgets/base",
          "model_name": "LayoutModel",
          "state": {
            "_view_name": "LayoutView",
            "grid_template_rows": null,
            "right": null,
            "justify_content": null,
            "_view_module": "@jupyter-widgets/base",
            "overflow": null,
            "_model_module_version": "1.2.0",
            "_view_count": null,
            "flex_flow": null,
            "width": null,
            "min_width": null,
            "border": null,
            "align_items": null,
            "bottom": null,
            "_model_module": "@jupyter-widgets/base",
            "top": null,
            "grid_column": null,
            "overflow_y": null,
            "overflow_x": null,
            "grid_auto_flow": null,
            "grid_area": null,
            "grid_template_columns": null,
            "flex": null,
            "_model_name": "LayoutModel",
            "justify_items": null,
            "grid_row": null,
            "max_height": null,
            "align_content": null,
            "visibility": null,
            "align_self": null,
            "height": null,
            "min_height": null,
            "padding": null,
            "grid_auto_rows": null,
            "grid_gap": null,
            "max_width": null,
            "order": null,
            "_view_module_version": "1.2.0",
            "grid_template_areas": null,
            "object_position": null,
            "object_fit": null,
            "grid_auto_columns": null,
            "margin": null,
            "display": null,
            "left": null
          }
        },
        "41b73f5586ba444b82b71d071ccd0d32": {
          "model_module": "@jupyter-widgets/controls",
          "model_name": "DescriptionStyleModel",
          "state": {
            "_view_name": "StyleView",
            "_model_name": "DescriptionStyleModel",
            "description_width": "",
            "_view_module": "@jupyter-widgets/base",
            "_model_module_version": "1.5.0",
            "_view_count": null,
            "_view_module_version": "1.2.0",
            "_model_module": "@jupyter-widgets/controls"
          }
        },
        "1dc154e91b4749c3ac6bbe8a099be398": {
          "model_module": "@jupyter-widgets/base",
          "model_name": "LayoutModel",
          "state": {
            "_view_name": "LayoutView",
            "grid_template_rows": null,
            "right": null,
            "justify_content": null,
            "_view_module": "@jupyter-widgets/base",
            "overflow": null,
            "_model_module_version": "1.2.0",
            "_view_count": null,
            "flex_flow": null,
            "width": null,
            "min_width": null,
            "border": null,
            "align_items": null,
            "bottom": null,
            "_model_module": "@jupyter-widgets/base",
            "top": null,
            "grid_column": null,
            "overflow_y": null,
            "overflow_x": null,
            "grid_auto_flow": null,
            "grid_area": null,
            "grid_template_columns": null,
            "flex": null,
            "_model_name": "LayoutModel",
            "justify_items": null,
            "grid_row": null,
            "max_height": null,
            "align_content": null,
            "visibility": null,
            "align_self": null,
            "height": null,
            "min_height": null,
            "padding": null,
            "grid_auto_rows": null,
            "grid_gap": null,
            "max_width": null,
            "order": null,
            "_view_module_version": "1.2.0",
            "grid_template_areas": null,
            "object_position": null,
            "object_fit": null,
            "grid_auto_columns": null,
            "margin": null,
            "display": null,
            "left": null
          }
        },
        "3057c58c86b3411f9c59fd0031891a4d": {
          "model_module": "@jupyter-widgets/controls",
          "model_name": "HBoxModel",
          "state": {
            "_view_name": "HBoxView",
            "_dom_classes": [],
            "_model_name": "HBoxModel",
            "_view_module": "@jupyter-widgets/controls",
            "_model_module_version": "1.5.0",
            "_view_count": null,
            "_view_module_version": "1.5.0",
            "box_style": "",
            "layout": "IPY_MODEL_2b3007140c2f46f691f076d8b8d9ed14",
            "_model_module": "@jupyter-widgets/controls",
            "children": [
              "IPY_MODEL_3d74288b34814cca9cf8979815c096c1",
              "IPY_MODEL_5248bd1682a44faca7fc44bb8270761c"
            ]
          }
        },
        "2b3007140c2f46f691f076d8b8d9ed14": {
          "model_module": "@jupyter-widgets/base",
          "model_name": "LayoutModel",
          "state": {
            "_view_name": "LayoutView",
            "grid_template_rows": null,
            "right": null,
            "justify_content": null,
            "_view_module": "@jupyter-widgets/base",
            "overflow": null,
            "_model_module_version": "1.2.0",
            "_view_count": null,
            "flex_flow": null,
            "width": null,
            "min_width": null,
            "border": null,
            "align_items": null,
            "bottom": null,
            "_model_module": "@jupyter-widgets/base",
            "top": null,
            "grid_column": null,
            "overflow_y": null,
            "overflow_x": null,
            "grid_auto_flow": null,
            "grid_area": null,
            "grid_template_columns": null,
            "flex": null,
            "_model_name": "LayoutModel",
            "justify_items": null,
            "grid_row": null,
            "max_height": null,
            "align_content": null,
            "visibility": null,
            "align_self": null,
            "height": null,
            "min_height": null,
            "padding": null,
            "grid_auto_rows": null,
            "grid_gap": null,
            "max_width": null,
            "order": null,
            "_view_module_version": "1.2.0",
            "grid_template_areas": null,
            "object_position": null,
            "object_fit": null,
            "grid_auto_columns": null,
            "margin": null,
            "display": null,
            "left": null
          }
        },
        "3d74288b34814cca9cf8979815c096c1": {
          "model_module": "@jupyter-widgets/controls",
          "model_name": "IntProgressModel",
          "state": {
            "_view_name": "ProgressView",
            "style": "IPY_MODEL_3d9f57771b3c438cae2f54603c6c8c00",
            "_dom_classes": [],
            "description": "",
            "_model_name": "IntProgressModel",
            "bar_style": "success",
            "max": 1,
            "_view_module": "@jupyter-widgets/controls",
            "_model_module_version": "1.5.0",
            "value": 1,
            "_view_count": null,
            "_view_module_version": "1.5.0",
            "orientation": "horizontal",
            "min": 0,
            "description_tooltip": null,
            "_model_module": "@jupyter-widgets/controls",
            "layout": "IPY_MODEL_dd22f4b49f2b4f638e2206cc5de8640f"
          }
        },
        "5248bd1682a44faca7fc44bb8270761c": {
          "model_module": "@jupyter-widgets/controls",
          "model_name": "HTMLModel",
          "state": {
            "_view_name": "HTMLView",
            "style": "IPY_MODEL_3ce8320296304948ba2ccf0300a70b8e",
            "_dom_classes": [],
            "description": "",
            "_model_name": "HTMLModel",
            "placeholder": "​",
            "_view_module": "@jupyter-widgets/controls",
            "_model_module_version": "1.5.0",
            "value": " 1654784/? [00:02&lt;00:00, 738590.34it/s]",
            "_view_count": null,
            "_view_module_version": "1.5.0",
            "description_tooltip": null,
            "_model_module": "@jupyter-widgets/controls",
            "layout": "IPY_MODEL_476b24c5ba364db688f90992e1387f4e"
          }
        },
        "3d9f57771b3c438cae2f54603c6c8c00": {
          "model_module": "@jupyter-widgets/controls",
          "model_name": "ProgressStyleModel",
          "state": {
            "_view_name": "StyleView",
            "_model_name": "ProgressStyleModel",
            "description_width": "initial",
            "_view_module": "@jupyter-widgets/base",
            "_model_module_version": "1.5.0",
            "_view_count": null,
            "_view_module_version": "1.2.0",
            "bar_color": null,
            "_model_module": "@jupyter-widgets/controls"
          }
        },
        "dd22f4b49f2b4f638e2206cc5de8640f": {
          "model_module": "@jupyter-widgets/base",
          "model_name": "LayoutModel",
          "state": {
            "_view_name": "LayoutView",
            "grid_template_rows": null,
            "right": null,
            "justify_content": null,
            "_view_module": "@jupyter-widgets/base",
            "overflow": null,
            "_model_module_version": "1.2.0",
            "_view_count": null,
            "flex_flow": null,
            "width": null,
            "min_width": null,
            "border": null,
            "align_items": null,
            "bottom": null,
            "_model_module": "@jupyter-widgets/base",
            "top": null,
            "grid_column": null,
            "overflow_y": null,
            "overflow_x": null,
            "grid_auto_flow": null,
            "grid_area": null,
            "grid_template_columns": null,
            "flex": null,
            "_model_name": "LayoutModel",
            "justify_items": null,
            "grid_row": null,
            "max_height": null,
            "align_content": null,
            "visibility": null,
            "align_self": null,
            "height": null,
            "min_height": null,
            "padding": null,
            "grid_auto_rows": null,
            "grid_gap": null,
            "max_width": null,
            "order": null,
            "_view_module_version": "1.2.0",
            "grid_template_areas": null,
            "object_position": null,
            "object_fit": null,
            "grid_auto_columns": null,
            "margin": null,
            "display": null,
            "left": null
          }
        },
        "3ce8320296304948ba2ccf0300a70b8e": {
          "model_module": "@jupyter-widgets/controls",
          "model_name": "DescriptionStyleModel",
          "state": {
            "_view_name": "StyleView",
            "_model_name": "DescriptionStyleModel",
            "description_width": "",
            "_view_module": "@jupyter-widgets/base",
            "_model_module_version": "1.5.0",
            "_view_count": null,
            "_view_module_version": "1.2.0",
            "_model_module": "@jupyter-widgets/controls"
          }
        },
        "476b24c5ba364db688f90992e1387f4e": {
          "model_module": "@jupyter-widgets/base",
          "model_name": "LayoutModel",
          "state": {
            "_view_name": "LayoutView",
            "grid_template_rows": null,
            "right": null,
            "justify_content": null,
            "_view_module": "@jupyter-widgets/base",
            "overflow": null,
            "_model_module_version": "1.2.0",
            "_view_count": null,
            "flex_flow": null,
            "width": null,
            "min_width": null,
            "border": null,
            "align_items": null,
            "bottom": null,
            "_model_module": "@jupyter-widgets/base",
            "top": null,
            "grid_column": null,
            "overflow_y": null,
            "overflow_x": null,
            "grid_auto_flow": null,
            "grid_area": null,
            "grid_template_columns": null,
            "flex": null,
            "_model_name": "LayoutModel",
            "justify_items": null,
            "grid_row": null,
            "max_height": null,
            "align_content": null,
            "visibility": null,
            "align_self": null,
            "height": null,
            "min_height": null,
            "padding": null,
            "grid_auto_rows": null,
            "grid_gap": null,
            "max_width": null,
            "order": null,
            "_view_module_version": "1.2.0",
            "grid_template_areas": null,
            "object_position": null,
            "object_fit": null,
            "grid_auto_columns": null,
            "margin": null,
            "display": null,
            "left": null
          }
        },
        "7bd6b9d34f77418d8c0bd7b7712ccd74": {
          "model_module": "@jupyter-widgets/controls",
          "model_name": "HBoxModel",
          "state": {
            "_view_name": "HBoxView",
            "_dom_classes": [],
            "_model_name": "HBoxModel",
            "_view_module": "@jupyter-widgets/controls",
            "_model_module_version": "1.5.0",
            "_view_count": null,
            "_view_module_version": "1.5.0",
            "box_style": "",
            "layout": "IPY_MODEL_6c88cd845aa5492aa380fc4f20977d89",
            "_model_module": "@jupyter-widgets/controls",
            "children": [
              "IPY_MODEL_48de055db2124ea882d99d91f83c74b3",
              "IPY_MODEL_dd2bbae7e14b4618af13a3c695a02ec9"
            ]
          }
        },
        "6c88cd845aa5492aa380fc4f20977d89": {
          "model_module": "@jupyter-widgets/base",
          "model_name": "LayoutModel",
          "state": {
            "_view_name": "LayoutView",
            "grid_template_rows": null,
            "right": null,
            "justify_content": null,
            "_view_module": "@jupyter-widgets/base",
            "overflow": null,
            "_model_module_version": "1.2.0",
            "_view_count": null,
            "flex_flow": null,
            "width": null,
            "min_width": null,
            "border": null,
            "align_items": null,
            "bottom": null,
            "_model_module": "@jupyter-widgets/base",
            "top": null,
            "grid_column": null,
            "overflow_y": null,
            "overflow_x": null,
            "grid_auto_flow": null,
            "grid_area": null,
            "grid_template_columns": null,
            "flex": null,
            "_model_name": "LayoutModel",
            "justify_items": null,
            "grid_row": null,
            "max_height": null,
            "align_content": null,
            "visibility": null,
            "align_self": null,
            "height": null,
            "min_height": null,
            "padding": null,
            "grid_auto_rows": null,
            "grid_gap": null,
            "max_width": null,
            "order": null,
            "_view_module_version": "1.2.0",
            "grid_template_areas": null,
            "object_position": null,
            "object_fit": null,
            "grid_auto_columns": null,
            "margin": null,
            "display": null,
            "left": null
          }
        },
        "48de055db2124ea882d99d91f83c74b3": {
          "model_module": "@jupyter-widgets/controls",
          "model_name": "IntProgressModel",
          "state": {
            "_view_name": "ProgressView",
            "style": "IPY_MODEL_9d71744fa53344f0a0393dd2335c5536",
            "_dom_classes": [],
            "description": "",
            "_model_name": "IntProgressModel",
            "bar_style": "success",
            "max": 1,
            "_view_module": "@jupyter-widgets/controls",
            "_model_module_version": "1.5.0",
            "value": 1,
            "_view_count": null,
            "_view_module_version": "1.5.0",
            "orientation": "horizontal",
            "min": 0,
            "description_tooltip": null,
            "_model_module": "@jupyter-widgets/controls",
            "layout": "IPY_MODEL_a3aaf52037214ad79a96acb0dc1f5439"
          }
        },
        "dd2bbae7e14b4618af13a3c695a02ec9": {
          "model_module": "@jupyter-widgets/controls",
          "model_name": "HTMLModel",
          "state": {
            "_view_name": "HTMLView",
            "style": "IPY_MODEL_14a332fe99184acdbdab37bce91cbbed",
            "_dom_classes": [],
            "description": "",
            "_model_name": "HTMLModel",
            "placeholder": "​",
            "_view_module": "@jupyter-widgets/controls",
            "_model_module_version": "1.5.0",
            "value": " 8192/? [00:00&lt;00:00, 13256.00it/s]",
            "_view_count": null,
            "_view_module_version": "1.5.0",
            "description_tooltip": null,
            "_model_module": "@jupyter-widgets/controls",
            "layout": "IPY_MODEL_16a033b804ef41b1acb999ce193bd7f9"
          }
        },
        "9d71744fa53344f0a0393dd2335c5536": {
          "model_module": "@jupyter-widgets/controls",
          "model_name": "ProgressStyleModel",
          "state": {
            "_view_name": "StyleView",
            "_model_name": "ProgressStyleModel",
            "description_width": "initial",
            "_view_module": "@jupyter-widgets/base",
            "_model_module_version": "1.5.0",
            "_view_count": null,
            "_view_module_version": "1.2.0",
            "bar_color": null,
            "_model_module": "@jupyter-widgets/controls"
          }
        },
        "a3aaf52037214ad79a96acb0dc1f5439": {
          "model_module": "@jupyter-widgets/base",
          "model_name": "LayoutModel",
          "state": {
            "_view_name": "LayoutView",
            "grid_template_rows": null,
            "right": null,
            "justify_content": null,
            "_view_module": "@jupyter-widgets/base",
            "overflow": null,
            "_model_module_version": "1.2.0",
            "_view_count": null,
            "flex_flow": null,
            "width": null,
            "min_width": null,
            "border": null,
            "align_items": null,
            "bottom": null,
            "_model_module": "@jupyter-widgets/base",
            "top": null,
            "grid_column": null,
            "overflow_y": null,
            "overflow_x": null,
            "grid_auto_flow": null,
            "grid_area": null,
            "grid_template_columns": null,
            "flex": null,
            "_model_name": "LayoutModel",
            "justify_items": null,
            "grid_row": null,
            "max_height": null,
            "align_content": null,
            "visibility": null,
            "align_self": null,
            "height": null,
            "min_height": null,
            "padding": null,
            "grid_auto_rows": null,
            "grid_gap": null,
            "max_width": null,
            "order": null,
            "_view_module_version": "1.2.0",
            "grid_template_areas": null,
            "object_position": null,
            "object_fit": null,
            "grid_auto_columns": null,
            "margin": null,
            "display": null,
            "left": null
          }
        },
        "14a332fe99184acdbdab37bce91cbbed": {
          "model_module": "@jupyter-widgets/controls",
          "model_name": "DescriptionStyleModel",
          "state": {
            "_view_name": "StyleView",
            "_model_name": "DescriptionStyleModel",
            "description_width": "",
            "_view_module": "@jupyter-widgets/base",
            "_model_module_version": "1.5.0",
            "_view_count": null,
            "_view_module_version": "1.2.0",
            "_model_module": "@jupyter-widgets/controls"
          }
        },
        "16a033b804ef41b1acb999ce193bd7f9": {
          "model_module": "@jupyter-widgets/base",
          "model_name": "LayoutModel",
          "state": {
            "_view_name": "LayoutView",
            "grid_template_rows": null,
            "right": null,
            "justify_content": null,
            "_view_module": "@jupyter-widgets/base",
            "overflow": null,
            "_model_module_version": "1.2.0",
            "_view_count": null,
            "flex_flow": null,
            "width": null,
            "min_width": null,
            "border": null,
            "align_items": null,
            "bottom": null,
            "_model_module": "@jupyter-widgets/base",
            "top": null,
            "grid_column": null,
            "overflow_y": null,
            "overflow_x": null,
            "grid_auto_flow": null,
            "grid_area": null,
            "grid_template_columns": null,
            "flex": null,
            "_model_name": "LayoutModel",
            "justify_items": null,
            "grid_row": null,
            "max_height": null,
            "align_content": null,
            "visibility": null,
            "align_self": null,
            "height": null,
            "min_height": null,
            "padding": null,
            "grid_auto_rows": null,
            "grid_gap": null,
            "max_width": null,
            "order": null,
            "_view_module_version": "1.2.0",
            "grid_template_areas": null,
            "object_position": null,
            "object_fit": null,
            "grid_auto_columns": null,
            "margin": null,
            "display": null,
            "left": null
          }
        }
      }
    },
    "accelerator": "GPU"
  },
  "cells": [
    {
      "cell_type": "markdown",
      "metadata": {
        "id": "view-in-github",
        "colab_type": "text"
      },
      "source": [
        "<a href=\"https://colab.research.google.com/github/pranjalchaubey/Deep-Learning-Notes/blob/master/PyTorch%20Image%20Classification%20in%202020/Image_Classification_master.ipynb\" target=\"_parent\"><img src=\"https://colab.research.google.com/assets/colab-badge.svg\" alt=\"Open In Colab\"/></a>"
      ]
    },
    {
      "cell_type": "markdown",
      "metadata": {
        "id": "ut1uDoXJzCTu",
        "colab_type": "text"
      },
      "source": [
        "# Image Classification using PyTorch in 2020  \n",
        "\n",
        "In this notebook we will be utilizing some of the latest advancements in the  \n",
        "[PyTorch Ecosystem](https://pytorch.org/ecosystem/) to build a simple image classifier using CNNs.   \n",
        "\n",
        "Along the way, we will learn some PyTorch and CNN (Convolution Neural  \n",
        "Networks) basics. "
      ]
    },
    {
      "cell_type": "markdown",
      "metadata": {
        "id": "rFhLAYud0CQK",
        "colab_type": "text"
      },
      "source": [
        "### 1. Get the Dataset Onboard\n",
        "\n",
        "In any Machine Learning/Data Science problem, the first step is always to get  \n",
        "the dataset.  \n",
        "\n",
        "In our case, to get things started, we will initially use the simple [MNIST Dataset](https://en.wikipedia.org/wiki/MNIST_database).  \n",
        "MNIST is largely considered the _'Hello World!'_ of AI/ML. The dataset was  \n",
        "created way back in the late 90s. The [official description](http://yann.lecun.com/exdb/mnist/) states,  \n",
        "\n",
        "_\"The MNIST database of handwritten digits, available from this page, has a training set of 60,000 examples, and a test set of 10,000 examples. It is a subset of a larger set available from NIST. The digits have been size-normalized and centered in a fixed-size image._  \n",
        "\n",
        "_It is a good database for people who want to try learning techniques and pattern recognition methods on real-world data while spending minimal efforts on preprocessing and formatting.\"_  \n",
        "\n",
        "<br/>You might be wondering, how to get this dataset in our Colab Workspace?  \n",
        "PyTorch comes with a _datasets_ module called, [Torchvision.Datasets](https://pytorch.org/docs/stable/torchvision/datasets.html).  \n",
        "Torchvision.Datasets module contains a number of publically available datasets  \n",
        "including the one we are looking for, MNIST. You are encouraged to explore the  \n",
        "Torchvision.Datasets documentation page. "
      ]
    },
    {
      "cell_type": "code",
      "metadata": {
        "id": "tia9JXE46rJF",
        "colab_type": "code",
        "colab": {}
      },
      "source": [
        "# Lets import some libraries \n",
        "import torch # PyTorch \n",
        "from torchvision import datasets # Datasets module \n",
        "import torchvision.transforms as transforms # Image Transforms \n",
        "from torch.utils.data.sampler import SubsetRandomSampler # Sampler "
      ],
      "execution_count": 0,
      "outputs": []
    },
    {
      "cell_type": "code",
      "metadata": {
        "id": "rVP4itgp7jC9",
        "colab_type": "code",
        "colab": {}
      },
      "source": [
        "# The Data Science Regulars\n",
        "import numpy as np \n",
        "import pandas as pd"
      ],
      "execution_count": 0,
      "outputs": []
    },
    {
      "cell_type": "markdown",
      "metadata": {
        "id": "6h8vdeaZ7sj_",
        "colab_type": "text"
      },
      "source": [
        "Checking out the torchvision.datasets module documentation, we find  \n",
        "![Torchvision.Dataset](https://drive.google.com/uc?id=1Zsgc5_PnO9BQQ5wqssf67A5Ge-qIXtLh)\n",
        "\n"
      ]
    },
    {
      "cell_type": "code",
      "metadata": {
        "id": "UapF3_qS67Pi",
        "colab_type": "code",
        "outputId": "91399098-3af7-43a7-dcce-8a61cc4ebd69",
        "colab": {
          "base_uri": "https://localhost:8080/",
          "height": 388,
          "referenced_widgets": [
            "c271d43df5c74137a3916d11ba2649c0",
            "cfd5fec18ed54e578c9171dcfb4b6388",
            "a919fddfd2ea4f1b8c0dbb62e5b3a07e",
            "bd1d15bcada34570944bb26a9a698111",
            "df5473a852544a67948cb78775f8fe7c",
            "ecce4ba129614676baddf48904e5eb45",
            "3cd952ed1dae480e9d73fba055f5415c",
            "5f5115aecf5348c1ac8e23257218d33a",
            "b34052415f87491798cf287e7a9d0690",
            "a5baba3e23544e7ea535caa3c366f9a7",
            "f9195e548e484018b47a70366a59f538",
            "542136419bb84b6694709ba247f0544e",
            "e5e8ba43bee94fc58bd59542f83f8764",
            "69296da03cef4ad78a22b9bc6b1d2a23",
            "41b73f5586ba444b82b71d071ccd0d32",
            "1dc154e91b4749c3ac6bbe8a099be398",
            "3057c58c86b3411f9c59fd0031891a4d",
            "2b3007140c2f46f691f076d8b8d9ed14",
            "3d74288b34814cca9cf8979815c096c1",
            "5248bd1682a44faca7fc44bb8270761c",
            "3d9f57771b3c438cae2f54603c6c8c00",
            "dd22f4b49f2b4f638e2206cc5de8640f",
            "3ce8320296304948ba2ccf0300a70b8e",
            "476b24c5ba364db688f90992e1387f4e",
            "7bd6b9d34f77418d8c0bd7b7712ccd74",
            "6c88cd845aa5492aa380fc4f20977d89",
            "48de055db2124ea882d99d91f83c74b3",
            "dd2bbae7e14b4618af13a3c695a02ec9",
            "9d71744fa53344f0a0393dd2335c5536",
            "a3aaf52037214ad79a96acb0dc1f5439",
            "14a332fe99184acdbdab37bce91cbbed",
            "16a033b804ef41b1acb999ce193bd7f9"
          ]
        }
      },
      "source": [
        "# convert data to torch.FloatTensor\n",
        "transform = transforms.ToTensor()\n",
        "\n",
        "# choose the training and test datasets\n",
        "train_data = datasets.MNIST(root='data', train=True,\n",
        "                                   download=True, transform=transform)\n",
        "test_data = datasets.MNIST(root='data', train=False,\n",
        "                                  download=True, transform=transform)"
      ],
      "execution_count": 3,
      "outputs": [
        {
          "output_type": "stream",
          "text": [
            "Downloading http://yann.lecun.com/exdb/mnist/train-images-idx3-ubyte.gz to data/MNIST/raw/train-images-idx3-ubyte.gz\n"
          ],
          "name": "stdout"
        },
        {
          "output_type": "display_data",
          "data": {
            "application/vnd.jupyter.widget-view+json": {
              "model_id": "c271d43df5c74137a3916d11ba2649c0",
              "version_minor": 0,
              "version_major": 2
            },
            "text/plain": [
              "HBox(children=(IntProgress(value=1, bar_style='info', max=1), HTML(value='')))"
            ]
          },
          "metadata": {
            "tags": []
          }
        },
        {
          "output_type": "stream",
          "text": [
            "Extracting data/MNIST/raw/train-images-idx3-ubyte.gz to data/MNIST/raw\n",
            "Downloading http://yann.lecun.com/exdb/mnist/train-labels-idx1-ubyte.gz to data/MNIST/raw/train-labels-idx1-ubyte.gz\n"
          ],
          "name": "stdout"
        },
        {
          "output_type": "display_data",
          "data": {
            "application/vnd.jupyter.widget-view+json": {
              "model_id": "b34052415f87491798cf287e7a9d0690",
              "version_minor": 0,
              "version_major": 2
            },
            "text/plain": [
              "HBox(children=(IntProgress(value=1, bar_style='info', max=1), HTML(value='')))"
            ]
          },
          "metadata": {
            "tags": []
          }
        },
        {
          "output_type": "stream",
          "text": [
            "Extracting data/MNIST/raw/train-labels-idx1-ubyte.gz to data/MNIST/raw\n",
            "Downloading http://yann.lecun.com/exdb/mnist/t10k-images-idx3-ubyte.gz to data/MNIST/raw/t10k-images-idx3-ubyte.gz\n"
          ],
          "name": "stdout"
        },
        {
          "output_type": "display_data",
          "data": {
            "application/vnd.jupyter.widget-view+json": {
              "model_id": "3057c58c86b3411f9c59fd0031891a4d",
              "version_minor": 0,
              "version_major": 2
            },
            "text/plain": [
              "HBox(children=(IntProgress(value=1, bar_style='info', max=1), HTML(value='')))"
            ]
          },
          "metadata": {
            "tags": []
          }
        },
        {
          "output_type": "stream",
          "text": [
            "Extracting data/MNIST/raw/t10k-images-idx3-ubyte.gz to data/MNIST/raw\n",
            "Downloading http://yann.lecun.com/exdb/mnist/t10k-labels-idx1-ubyte.gz to data/MNIST/raw/t10k-labels-idx1-ubyte.gz\n"
          ],
          "name": "stdout"
        },
        {
          "output_type": "display_data",
          "data": {
            "application/vnd.jupyter.widget-view+json": {
              "model_id": "7bd6b9d34f77418d8c0bd7b7712ccd74",
              "version_minor": 0,
              "version_major": 2
            },
            "text/plain": [
              "HBox(children=(IntProgress(value=1, bar_style='info', max=1), HTML(value='')))"
            ]
          },
          "metadata": {
            "tags": []
          }
        },
        {
          "output_type": "stream",
          "text": [
            "Extracting data/MNIST/raw/t10k-labels-idx1-ubyte.gz to data/MNIST/raw\n",
            "Processing...\n",
            "Done!\n",
            "\n",
            "\n",
            "\n"
          ],
          "name": "stdout"
        }
      ]
    },
    {
      "cell_type": "markdown",
      "metadata": {
        "id": "NnZrOAcMZRTp",
        "colab_type": "text"
      },
      "source": [
        "### 2. Train Validation Test Split \n",
        "\n",
        "Once the download is complete (usually instantaneous), you should be able to  \n",
        "see the MNIST dataset downloaded inside the _'data'_ folder on the left hand  \n",
        "side. (Click on the _Files_ icon on the left sidebar)  \n",
        "\n",
        "We have both the training and the test sets. Now we need to bifurcate the   \n",
        "training set in two parts,  \n",
        "1. Training Set (80% images)\n",
        "2. Validation Set (20% images)  \n",
        "\n",
        "The algorithm we use to do this is quite simple,  \n",
        "1. Create a list of indices of the training data \n",
        "2. Randomly Shuffle those indices \n",
        "3. Slice the indices in 80-20 split \n",
        "\n",
        "[Why create a _Validation Set_ at all?](https://datascience.stackexchange.com/questions/18339/why-use-both-validation-set-and-test-set) "
      ]
    },
    {
      "cell_type": "code",
      "metadata": {
        "id": "IrsPBIfRYwNc",
        "colab_type": "code",
        "outputId": "d20f55c2-e224-49e2-a3d0-8b5d3f2da32f",
        "colab": {
          "base_uri": "https://localhost:8080/",
          "height": 54
        }
      },
      "source": [
        "# obtain training indices that will be used for validation\n",
        "\n",
        "# 1. Create a list of indices of the training data  \n",
        "num_train = len(train_data)\n",
        "print('num_train = len(train_data) ==> ', num_train)\n",
        "indices = list(range(num_train))\n",
        "print('len(indices) ==>', len(indices))\n",
        "# print(indices)"
      ],
      "execution_count": 4,
      "outputs": [
        {
          "output_type": "stream",
          "text": [
            "num_train = len(train_data) ==>  60000\n",
            "len(indices) ==> 60000\n"
          ],
          "name": "stdout"
        }
      ]
    },
    {
      "cell_type": "code",
      "metadata": {
        "id": "xjDu_dd35TZZ",
        "colab_type": "code",
        "colab": {}
      },
      "source": [
        "# 2. Randomly Shuffle those indices\n",
        "np.random.shuffle(indices)"
      ],
      "execution_count": 0,
      "outputs": []
    },
    {
      "cell_type": "code",
      "metadata": {
        "id": "UKqrNSg-5VMq",
        "colab_type": "code",
        "outputId": "326a9452-aa60-48ec-c6ee-52c60d165845",
        "colab": {
          "base_uri": "https://localhost:8080/",
          "height": 54
        }
      },
      "source": [
        "# 3. Slice the indices in 80-20 split\n",
        "# percentage of training set to use as validation\n",
        "valid_size = 0.2 # ie Train Set divided into two parts \n",
        "                 # 80% Train 20% Validation \n",
        "split = int(np.floor(valid_size * num_train))\n",
        "train_idx, valid_idx = indices[split:], indices[:split]\n",
        "\n",
        "print('len(train_idx) ==> ', len(train_idx))\n",
        "print('len(valid_idx) ==> ', len(valid_idx))"
      ],
      "execution_count": 6,
      "outputs": [
        {
          "output_type": "stream",
          "text": [
            "len(train_idx) ==>  48000\n",
            "len(valid_idx) ==>  12000\n"
          ],
          "name": "stdout"
        }
      ]
    },
    {
      "cell_type": "markdown",
      "metadata": {
        "id": "14RHH0Jt8_k_",
        "colab_type": "text"
      },
      "source": [
        "Please Note that so far we have just been fiddling around with the _'indices'_,  \n",
        "not the actual images as such.....but Why?  \n",
        "Answer below.  "
      ]
    },
    {
      "cell_type": "markdown",
      "metadata": {
        "id": "IlTpuhxVAfCK",
        "colab_type": "text"
      },
      "source": [
        "### 3. Prepare the Dataloaders \n",
        "\n",
        "By now, we have downloaded the dataset, and created a train/valid/test split.  \n",
        "Q: How do we _'push'_ this data into a PyTorch model?  \n",
        "A: PyTorch has a mechanism to _'ingest'_ data from a dataset through a module  \n",
        "known as `DataLoader`.  \n",
        "\n",
        "A great analogy,  \n",
        "![DataLoader](https://drive.google.com/uc?id=1U4IG-5lbFGQQS4xwQPU2QiYdR1hFGBZ5)\n",
        "\n",
        "[Great tutorial on DataLoaders.](https://www.journaldev.com/36576/pytorch-dataloader)  \n",
        "[Ultimate tutorial on DataLoaders.](https://stanford.edu/~shervine/blog/pytorch-how-to-generate-data-parallel) \n",
        "\n",
        "Time to prepare the _DataLoaders_ now!  \n",
        "\n",
        "![DataLoader Documentation](https://drive.google.com/uc?id=1YFbWIGwNlL5Kp4Zvt52Ck0_Wk4MNfxS9)"
      ]
    },
    {
      "cell_type": "code",
      "metadata": {
        "id": "5_Zzb55d8k7o",
        "colab_type": "code",
        "colab": {}
      },
      "source": [
        "# define samplers for obtaining training and validation batches\n",
        "# remember train_idx and valid_idx were the indices that we shuffled above\n",
        "train_sampler = SubsetRandomSampler(train_idx)\n",
        "valid_sampler = SubsetRandomSampler(valid_idx)\n",
        "\n",
        "# prepare dataloaders\n",
        "# number of subprocesses to use for data loading\n",
        "num_workers = 0 # do not modify \n",
        "# how many samples per batch to load\n",
        "batch_size = 20 # ie 20 images per batch \n",
        "\n",
        "# Training Set \n",
        "train_loader = torch.utils.data.DataLoader(dataset=train_data, \\\n",
        "                                           batch_size=batch_size, \\\n",
        "                                           sampler=train_sampler, \\\n",
        "                                           num_workers=num_workers)\n",
        "# Validation Set \n",
        "valid_loader = torch.utils.data.DataLoader(dataset=train_data, \\\n",
        "                                           batch_size=batch_size, \\\n",
        "                                           sampler=valid_sampler, \\\n",
        "                                           num_workers=num_workers)\n",
        "# Test Set \n",
        "# Notice we have not used a 'sampler' here as it was not required \n",
        "test_loader = torch.utils.data.DataLoader(dataset=test_data, \\\n",
        "                                          batch_size=batch_size, \\\n",
        "                                          num_workers=num_workers)"
      ],
      "execution_count": 0,
      "outputs": []
    },
    {
      "cell_type": "markdown",
      "metadata": {
        "id": "ZBy_7mS_4hdc",
        "colab_type": "text"
      },
      "source": [
        "We got the dataloaders working, but how do we know that they are working indeed?  \n",
        "Visualizing the data from the dataloaders would be a good check! "
      ]
    },
    {
      "cell_type": "code",
      "metadata": {
        "id": "JrRjUiQG5uOu",
        "colab_type": "code",
        "outputId": "6a6f4115-f94a-454b-8fab-5c1e0b989e7f",
        "colab": {
          "base_uri": "https://localhost:8080/",
          "height": 148
        }
      },
      "source": [
        "# Visualize a whole batch of data from the dataloaders \n",
        "\n",
        "dataiter = iter(train_loader) # Get the whole batch \n",
        "images, labels = dataiter.next() # Extract the images and their labels \n",
        "print(len(images), len(labels)) # Should be equal to the batch size, 20\n",
        "print('Correct Labels: ', labels)\n",
        "images = images.numpy() # Convert the images to numpy array for matplotlib\n",
        "print('Shape of our images tensor =', images.shape)\n",
        "print('Batch Size =', images.shape[0], 'Image Height/Width =', \\\n",
        "                                                        images.shape[2])\n",
        "\n",
        "print()\n",
        "print('Squeezing the images tensor =', np.squeeze(images).shape)\n",
        "print('Un-squeezing the images tensor (axis=1) =', \\\n",
        "                                        np.expand_dims(images, axis=1).shape)"
      ],
      "execution_count": 8,
      "outputs": [
        {
          "output_type": "stream",
          "text": [
            "20 20\n",
            "Correct Labels:  tensor([5, 0, 6, 8, 9, 6, 2, 1, 5, 4, 1, 8, 3, 2, 9, 6, 6, 9, 4, 5])\n",
            "Shape of our images tensor = (20, 1, 28, 28)\n",
            "Batch Size = 20 Image Height/Width = 28\n",
            "\n",
            "Squeezing the images tensor = (20, 28, 28)\n",
            "Un-squeezing the images tensor (axis=1) = (20, 1, 1, 28, 28)\n"
          ],
          "name": "stdout"
        }
      ]
    },
    {
      "cell_type": "code",
      "metadata": {
        "id": "Y58P0-etIck4",
        "colab_type": "code",
        "outputId": "9463d3e8-9e9c-45c9-c4fc-6d5562d18a7d",
        "colab": {
          "base_uri": "https://localhost:8080/",
          "height": 36
        }
      },
      "source": [
        "import matplotlib.pyplot as plt \n",
        "# Plots are plotted inside the notebooks, 'inline'\n",
        "%matplotlib inline "
      ],
      "execution_count": 9,
      "outputs": [
        {
          "output_type": "stream",
          "text": [
            "\n"
          ],
          "name": "stdout"
        }
      ]
    },
    {
      "cell_type": "markdown",
      "metadata": {
        "id": "yL8sSrheGg9-",
        "colab_type": "text"
      },
      "source": [
        "With matplotlib, always remember that _figures contain axes which in turn   \n",
        "contain the plots_.  \n",
        "![Real Python](https://drive.google.com/uc?id=1KdlAGoCK8Lj9pFkrZf52oqOJK3sH3JuH)  \n",
        "\n",
        "[Great tutorial on Matplotlib.](https://realpython.com/python-matplotlib-guide/)"
      ]
    },
    {
      "cell_type": "code",
      "metadata": {
        "id": "cC5KTKSv6Y8T",
        "colab_type": "code",
        "outputId": "91b089e5-6957-43a2-ac8c-949f527af99f",
        "colab": {
          "base_uri": "https://localhost:8080/",
          "height": 245
        }
      },
      "source": [
        "# Plot the whole batch \n",
        "fig = plt.figure(figsize=(25, 4))\n",
        "# Loop over all the images in the batch(20)\n",
        "for idx in np.arange(20):\n",
        "    # Add a subplot for the image \n",
        "    ax = fig.add_subplot(2, 20/2, idx+1, xticks=[], yticks=[])\n",
        "    # Populate the subplot with the image \n",
        "    ax.imshow(np.squeeze(images[idx]), cmap='gray')\n",
        "    # print out the correct label for each image\n",
        "    # .item() gets the value contained in a Tensor\n",
        "    ax.set_title(str(labels[idx].item()))"
      ],
      "execution_count": 10,
      "outputs": [
        {
          "output_type": "display_data",
          "data": {
            "image/png": "[encoded data removed]",
            "text/plain": [
              "<Figure size 1800x288 with 20 Axes>"
            ]
          },
          "metadata": {
            "tags": []
          }
        }
      ]
    },
    {
      "cell_type": "code",
      "metadata": {
        "id": "ls_AFh0FzMkG",
        "colab_type": "code",
        "outputId": "1edab209-14fd-426e-960b-8cb88b6a8570",
        "colab": {
          "base_uri": "https://localhost:8080/",
          "height": 559
        }
      },
      "source": [
        "# A neat little numpy trick\n",
        "# Just for fun! \n",
        "\n",
        "dataiter = iter(train_loader)  \n",
        "images, labels = dataiter.next() \n",
        "images = images.numpy() \n",
        "np.set_printoptions(precision=2, threshold=None, edgeitems=None, \\\n",
        "                    linewidth=180, suppress=None)\n",
        "print('Label', labels[0])\n",
        "print(images[0])"
      ],
      "execution_count": 11,
      "outputs": [
        {
          "output_type": "stream",
          "text": [
            "Label tensor(9)\n",
            "[[[0.   0.   0.   0.   0.   0.   0.   0.   0.   0.   0.   0.   0.   0.   0.   0.   0.   0.   0.   0.   0.   0.   0.   0.   0.   0.   0.   0.  ]\n",
            "  [0.   0.   0.   0.   0.   0.   0.   0.   0.   0.   0.   0.   0.   0.   0.   0.   0.   0.   0.   0.   0.   0.   0.   0.   0.   0.   0.   0.  ]\n",
            "  [0.   0.   0.   0.   0.   0.   0.   0.   0.   0.   0.   0.   0.   0.   0.   0.   0.   0.   0.   0.   0.   0.   0.   0.   0.   0.   0.   0.  ]\n",
            "  [0.   0.   0.   0.   0.   0.   0.   0.   0.   0.   0.   0.   0.   0.   0.   0.   0.   0.   0.   0.   0.   0.   0.   0.   0.   0.   0.   0.  ]\n",
            "  [0.   0.   0.   0.   0.   0.   0.   0.   0.   0.   0.   0.   0.   0.   0.   0.   0.   0.   0.   0.   0.   0.   0.   0.   0.   0.   0.   0.  ]\n",
            "  [0.   0.   0.   0.   0.   0.   0.   0.   0.   0.   0.   0.   0.   0.   0.   0.   0.   0.   0.   0.   0.   0.   0.   0.   0.   0.   0.   0.  ]\n",
            "  [0.   0.   0.   0.   0.   0.   0.   0.   0.   0.   0.   0.   0.   0.   0.   0.   0.   0.   0.   0.   0.   0.   0.   0.   0.   0.   0.   0.  ]\n",
            "  [0.   0.   0.   0.   0.   0.   0.   0.   0.   0.   0.   0.   0.15 0.58 1.   0.85 0.58 0.44 0.   0.   0.   0.   0.   0.   0.   0.   0.   0.  ]\n",
            "  [0.   0.   0.   0.   0.   0.   0.   0.   0.   0.   0.   0.2  0.81 0.99 0.99 0.99 0.99 0.93 0.13 0.   0.   0.   0.   0.   0.   0.   0.   0.  ]\n",
            "  [0.   0.   0.   0.   0.   0.   0.   0.   0.   0.   0.2  0.92 0.99 0.99 0.99 0.99 0.99 0.99 0.16 0.   0.   0.   0.   0.   0.   0.   0.   0.  ]\n",
            "  [0.   0.   0.   0.   0.   0.   0.   0.   0.   0.04 0.81 0.99 0.99 0.99 0.89 0.99 0.99 0.99 0.27 0.   0.   0.   0.   0.   0.   0.   0.   0.  ]\n",
            "  [0.   0.   0.   0.   0.   0.   0.   0.   0.   0.69 0.99 0.99 0.89 0.23 0.1  0.3  0.96 0.99 0.92 0.   0.   0.   0.   0.   0.   0.   0.   0.  ]\n",
            "  [0.   0.   0.   0.   0.   0.   0.   0.   0.   1.   0.99 0.99 0.4  0.   0.   0.27 0.96 0.99 0.99 0.   0.   0.   0.   0.   0.   0.   0.   0.  ]\n",
            "  [0.   0.   0.   0.   0.   0.   0.   0.   0.   0.54 0.99 0.99 0.93 0.57 0.4  0.93 0.99 0.99 0.99 0.   0.   0.   0.   0.   0.   0.   0.   0.  ]\n",
            "  [0.   0.   0.   0.   0.   0.   0.   0.   0.   0.09 0.87 0.99 0.99 0.99 0.99 0.99 0.99 0.99 0.75 0.   0.   0.   0.   0.   0.   0.   0.   0.  ]\n",
            "  [0.   0.   0.   0.   0.   0.   0.   0.   0.   0.   0.56 0.87 0.99 0.99 0.99 0.99 0.99 0.82 0.05 0.   0.   0.   0.   0.   0.   0.   0.   0.  ]\n",
            "  [0.   0.   0.   0.   0.   0.   0.   0.   0.   0.   0.   0.08 0.16 0.51 0.75 0.89 0.99 0.74 0.   0.   0.   0.   0.   0.   0.   0.   0.   0.  ]\n",
            "  [0.   0.   0.   0.   0.   0.   0.   0.   0.   0.   0.   0.   0.   0.   0.17 0.89 0.99 0.75 0.   0.   0.   0.   0.   0.   0.   0.   0.   0.  ]\n",
            "  [0.   0.   0.   0.   0.   0.   0.   0.   0.   0.   0.   0.   0.   0.   0.58 0.99 0.99 0.43 0.   0.   0.   0.   0.   0.   0.   0.   0.   0.  ]\n",
            "  [0.   0.   0.   0.   0.   0.   0.   0.   0.   0.   0.   0.   0.   0.   0.79 0.99 0.74 0.16 0.   0.   0.   0.   0.   0.   0.   0.   0.   0.  ]\n",
            "  [0.   0.   0.   0.   0.   0.   0.   0.   0.   0.   0.   0.   0.   0.11 0.99 0.99 0.39 0.   0.   0.   0.   0.   0.   0.   0.   0.   0.   0.  ]\n",
            "  [0.   0.   0.   0.   0.   0.   0.   0.   0.   0.   0.   0.   0.   0.59 0.99 0.85 0.05 0.   0.   0.   0.   0.   0.   0.   0.   0.   0.   0.  ]\n",
            "  [0.   0.   0.   0.   0.   0.   0.   0.   0.   0.   0.   0.   0.32 0.99 1.   0.25 0.   0.   0.   0.   0.   0.   0.   0.   0.   0.   0.   0.  ]\n",
            "  [0.   0.   0.   0.   0.   0.   0.   0.   0.   0.   0.   0.2  0.91 0.99 0.59 0.06 0.   0.   0.   0.   0.   0.   0.   0.   0.   0.   0.   0.  ]\n",
            "  [0.   0.   0.   0.   0.   0.   0.   0.   0.   0.   0.   0.71 0.99 0.96 0.   0.   0.   0.   0.   0.   0.   0.   0.   0.   0.   0.   0.   0.  ]\n",
            "  [0.   0.   0.   0.   0.   0.   0.   0.   0.   0.   0.22 0.96 0.93 0.26 0.   0.   0.   0.   0.   0.   0.   0.   0.   0.   0.   0.   0.   0.  ]\n",
            "  [0.   0.   0.   0.   0.   0.   0.   0.   0.   0.   0.2  0.96 0.57 0.   0.   0.   0.   0.   0.   0.   0.   0.   0.   0.   0.   0.   0.   0.  ]\n",
            "  [0.   0.   0.   0.   0.   0.   0.   0.   0.   0.   0.   0.   0.   0.   0.   0.   0.   0.   0.   0.   0.   0.   0.   0.   0.   0.   0.   0.  ]]]\n"
          ],
          "name": "stdout"
        }
      ]
    },
    {
      "cell_type": "markdown",
      "metadata": {
        "id": "2APl70a5LH66",
        "colab_type": "text"
      },
      "source": [
        "Our dataloaders seem to be working fine and out data looks great!  \n",
        "<br/> \n",
        "Time to build our CNN based image classification model in PyTorch.....in 2020! "
      ]
    },
    {
      "cell_type": "markdown",
      "metadata": {
        "id": "LGFnKhH5Lh9t",
        "colab_type": "text"
      },
      "source": [
        "### 4. Build a PyTorch CNN Model\n",
        "But first, we need to know what are the components of a typical CNN based  \n",
        "image classification architecture. \n",
        "\n"
      ]
    },
    {
      "cell_type": "markdown",
      "metadata": {
        "id": "XjUD_2bKKteP",
        "colab_type": "text"
      },
      "source": [
        "| INSERT CNN INTRODUCTION | "
      ]
    },
    {
      "cell_type": "markdown",
      "metadata": {
        "id": "vGqPxOlPLGUT",
        "colab_type": "text"
      },
      "source": [
        "| INSERT PYTORCH INTRODUCTION | "
      ]
    },
    {
      "cell_type": "markdown",
      "metadata": {
        "id": "wYblCGur448H",
        "colab_type": "text"
      },
      "source": [
        "Time to define our model!  \n",
        "But before we start off with the model definition, let's have a look at what  \n",
        "the PyTorch Documentation says about the Convolutional NNs.  \n",
        "![Conv2d Layer](https://drive.google.com/uc?id=1odHZIXURYjogjUcyCQ56RYfQPqgzO7DX \"Conv2D\")  \n",
        "\n",
        "We also need to check out about the MaxPool, Dropout and Linear Layers.  \n",
        "\n",
        "![MaxPool 2D](https://drive.google.com/uc?id=1r1EeLHrV5oAG4OUyRSm0lw2OcZyJQ7ne \"MaxPool2D Layer\")  \n",
        "\n",
        "![Dropout Layer](https://drive.google.com/uc?id=1kYgb4wDrGEBEF5WB169N7Q5hTrwDDO1d \"Dropout Layer\")  \n",
        "\n",
        "![Linear Layer](https://drive.google.com/uc?id=1rrIEqPtun_8Td1js76B2hv22Xm5tjY6m \"Linear Layer\")  "
      ]
    },
    {
      "cell_type": "markdown",
      "metadata": {
        "id": "q0zv4wi7BNRL",
        "colab_type": "text"
      },
      "source": [
        "Did you guys notice a weird anomaly in the Conv2d and Linear layers?  \n",
        "```\n",
        "torch.nn.Conv2d(in_channels, out_channels, kernel_size, stride=1, padding=0, dilation=1, groups=1, bias=True, padding_mode='zeros')\n",
        "```  \n",
        "```\n",
        "torch.nn.Linear(in_features, out_features, bias=True)\n",
        "```"
      ]
    },
    {
      "cell_type": "markdown",
      "metadata": {
        "id": "jrhOYd8JTQ-B",
        "colab_type": "text"
      },
      "source": [
        "Conv2d layer expects `in_channels` while the Linear layer expects `in_features`.  \n",
        "\n",
        "Bottom line is, that PyTorch expects different things from a tensor dimension.  \n",
        "Specifically,  \n",
        "```\n",
        "\"\"\"Example tensor size outputs, how PyTorch reads them, and where you encounter them in the wild. \n",
        "Note: the values below are only examples. Focus on the rank of the tensor (how many dimensions it has).\"\"\"\n",
        ">>> torch.Size([32])\n",
        "    # 1d: [batch_size] \n",
        "    # use for target labels or predictions.\n",
        ">>> torch.Size([12, 256])\n",
        "    # 2d: [batch_size, num_features (aka: C * H * W)]\n",
        "    # use for as nn.Linear() input.\n",
        ">>> torch.Size([10, 1, 2048])\n",
        "    # 3d: [batch_size, channels, num_features (aka: H * W)]\n",
        "    # when used as nn.Conv1d() input.\n",
        "    # (but [seq_len, batch_size, num_features]\n",
        "    # if feeding an RNN).\n",
        ">>> torch.Size([16, 3, 28, 28])\n",
        "    # 4d: [batch_size, channels, height, width]\n",
        "    # use for as nn.Conv2d() input.\n",
        ">>>  torch.Size([32, 1, 5, 15, 15])\n",
        "    # 5D: [batch_size, channels, depth, height, width]\n",
        "    # use for as nn.Conv3d() input.\n",
        "```    \n",
        "\n",
        "A neat method to make your tensors ready for the linear layer,  \n",
        "```\n",
        "Use view() to change your tensor’s dimensions.\n",
        "\n",
        "image = image.view(batch_size, -1)\n",
        "\n",
        "You supply your batch_size as the first number, and then “-1” basically tells Pytorch, “you figure out this other number for me… please.” \n",
        "Your tensor will now feed properly into any linear layer.\n",
        "```\n",
        "\n",
        "[Incredible Tutorial on PyTorch Layer Dimensions.](https://towardsdatascience.com/pytorch-layer-dimensions-what-sizes-should-they-be-and-why-4265a41e01fd)"
      ]
    },
    {
      "cell_type": "markdown",
      "metadata": {
        "id": "ouQTXZetn53I",
        "colab_type": "text"
      },
      "source": [
        "Before we start,  \n",
        "1. What is the shape (dimensions) of our images?  \n",
        "2. What is the shape of our batches? \n",
        "3. How many _'channels'_ are there in our images? "
      ]
    },
    {
      "cell_type": "code",
      "metadata": {
        "id": "I-McCK6u3WnN",
        "colab_type": "code",
        "colab": {}
      },
      "source": [
        "import torch.nn as nn # nn module contains all the layers \n",
        "import torch.nn.functional as F # same as nn, but a little different "
      ],
      "execution_count": 0,
      "outputs": []
    },
    {
      "cell_type": "code",
      "metadata": {
        "id": "AtUDongrrJlj",
        "colab_type": "code",
        "colab": {}
      },
      "source": [
        "# Our CNN based neural architecture \n",
        "# Let's build a simple one with only Convolutional, Linear \n",
        "# and dropout layers\n",
        "class MNISTModel1(nn.Module):\n",
        "    # Here we define the neural architecture \n",
        "    def __init__(self):\n",
        "        super(MNISTModel1, self).__init__() # Initialize the nn module \n",
        "        \n",
        "        # Convolutional Layers\n",
        "        # What shape/dimensions the first layer is going to see? \n",
        "        # Do we need to have some padding for a kernel_size = 3?  \n",
        "        # Input Features = 1 x 28 x 28\n",
        "        # Output Features = ???\n",
        "        # Shape of a Convolutional Layer = (W - K + 2P)\n",
        "        #                                  ------------ + 1\n",
        "        #                                       S\n",
        "        # where, \n",
        "        #       W = Width/Height of previous layer = 28\n",
        "        #       K = Filter Size = 3\n",
        "        #       P = Padding = 0\n",
        "        #       S = Stride = 1(default)\n",
        "        # Therefore, \n",
        "        #           if padding = 0\n",
        "        #           Output Shape = ((28 - 3 + 2*0)/1)+1 = 26 \n",
        "        # We want the dimensions to stay the same so that there is no \n",
        "        # loss of information when performing the convolution. \n",
        "        # Hence, \n",
        "        #       if padding = 1\n",
        "        #       Output Shape = ((28 - 3 + 2*1)/1)+1 = 28\n",
        "        # Output Features = 8 x 28 x 28  \n",
        "        self.conv1 = nn.Conv2d(in_channels=1, out_channels=8, kernel_size=3, \\\n",
        "                               stride=1, padding=1)\n",
        "        # Input Features = 8 x 28 x 28\n",
        "        # Output Features = 16 x 28 x 28 | ((28 - 3 + 2*1)/1)+1 = 28\n",
        "        self.conv2 = nn.Conv2d(in_channels=8, out_channels=16, kernel_size=3, \\\n",
        "                               stride=1, padding=1)\n",
        "\n",
        "        # Linear Layers \n",
        "        # What shape the first linear layer is going see?\n",
        "        # What are the total number of features given out by conv2?\n",
        "        # Features = 16 x 28 x 28 = 12544\n",
        "        # Therefore,           \n",
        "        self.linear1 = nn.Linear(in_features=12544, out_features=256)\n",
        "        self.linear2 = nn.Linear(in_features=256, out_features=64)\n",
        "        # Last linear layer should output 10 features as we are \n",
        "        # Classifying the images in 10 categories \n",
        "        self.linear3 = nn.Linear(in_features=64, out_features=10)\n",
        "\n",
        "        # Dropout \n",
        "        self.dropout = nn.Dropout(p=0.25)\n",
        "\n",
        "    # Here we define the 'forward behaviour' of our neural architecture \n",
        "    def forward(self, image_batch):\n",
        "        # This is also the place where we add ACTIVATION functions \n",
        "        image_batch = F.relu(input=self.conv1(image_batch))          \n",
        "        image_batch = F.relu(input=self.conv2(image_batch))  \n",
        "        \n",
        "        # Remember that when passing image_batch through the Linear layers, \n",
        "        # PyTorch expects: \n",
        "        # >>> torch.Size([12, 256]) -> example values \n",
        "            # 2d: [batch_size, num_features (aka: C * H * W)]\n",
        "            # use for nn.Linear() input.   \n",
        "        # Therefore, we need to 'flatten' image_batch\n",
        "        # image_batch = image_batch.view(batch_size, -1) --> batch size ???\n",
        "        flat_image_batch = image_batch.view(image_batch.shape[0], -1)\n",
        "        flat_image_batch = F.relu(input=self.linear1(flat_image_batch))\n",
        "        # Let's add the dropout too \n",
        "        flat_image_batch = self.dropout(F.relu(input=self.linear2(flat_image_batch)))\n",
        "        # Final Layer of the network \n",
        "        flat_image_batch = F.relu(input=self.linear3(flat_image_batch))\n",
        "        # The output from the final layer is a tensor with 10 'logits'\n",
        "        return flat_image_batch               "
      ],
      "execution_count": 0,
      "outputs": []
    },
    {
      "cell_type": "markdown",
      "metadata": {
        "id": "HEPNIgRiS9FN",
        "colab_type": "text"
      },
      "source": [
        "Now that we have defined our model, is there a way we can peep inside to see  \n",
        "what is going on and that if everything is alright?  \n",
        "\n",
        "Guess it's time to install _**[torchsummary !!!](https://github.com/sksq96/pytorch-summary)**_ "
      ]
    },
    {
      "cell_type": "code",
      "metadata": {
        "id": "hHTtCrNxQ_X7",
        "colab_type": "code",
        "outputId": "5ee151aa-df5b-40b4-df16-b306892f1427",
        "colab": {
          "base_uri": "https://localhost:8080/",
          "height": 36
        }
      },
      "source": [
        "# Let's install torchsummary and do some cool stuff \n",
        "!pip install torchsummary # https://github.com/sksq96/pytorch-summary "
      ],
      "execution_count": 14,
      "outputs": [
        {
          "output_type": "stream",
          "text": [
            "Requirement already satisfied: torchsummary in /usr/local/lib/python3.6/dist-packages (1.5.1)\n"
          ],
          "name": "stdout"
        }
      ]
    },
    {
      "cell_type": "code",
      "metadata": {
        "id": "NylWMGTf1QbN",
        "colab_type": "code",
        "colab": {}
      },
      "source": [
        "# Let's import some cool functions from these libraries \n",
        "# from poutyne.framework import Model # The core datastructure of poutyne \n",
        "# from poutyne.framework import ModelCheckpoint # Saves trained model during training\n",
        "# from poutyne.framework import Callback # We will see it in action in a little while \n",
        "\n",
        "from torchsummary import summary "
      ],
      "execution_count": 0,
      "outputs": []
    },
    {
      "cell_type": "code",
      "metadata": {
        "id": "DtUFlNAd5lhN",
        "colab_type": "code",
        "outputId": "f7ed8c07-6912-43bd-f8ee-ba3c3d6eee2d",
        "colab": {
          "base_uri": "https://localhost:8080/",
          "height": 391
        }
      },
      "source": [
        "# We can make the use of torchsummary library here to figure \n",
        "# if we have done something wrong \n",
        "\n",
        "# But first we need to tell PyTorch where to 'keep' the model \n",
        "# On GPU or on CPU \n",
        "device = torch.device(\"cuda\" if torch.cuda.is_available() else \"cpu\") \n",
        "print('The model will run on', device)\n",
        "\n",
        "# Initialize the model \n",
        "mnist1 = MNISTModel1().to(device)\n",
        "summary(model=mnist1, input_size=(1, 28, 28), batch_size=20) # Summarize"
      ],
      "execution_count": 16,
      "outputs": [
        {
          "output_type": "stream",
          "text": [
            "The model will run on cuda\n",
            "----------------------------------------------------------------\n",
            "        Layer (type)               Output Shape         Param #\n",
            "================================================================\n",
            "            Conv2d-1            [20, 8, 28, 28]              80\n",
            "            Conv2d-2           [20, 16, 28, 28]           1,168\n",
            "            Linear-3                  [20, 256]       3,211,520\n",
            "            Linear-4                   [20, 64]          16,448\n",
            "           Dropout-5                   [20, 64]               0\n",
            "            Linear-6                   [20, 10]             650\n",
            "================================================================\n",
            "Total params: 3,229,866\n",
            "Trainable params: 3,229,866\n",
            "Non-trainable params: 0\n",
            "----------------------------------------------------------------\n",
            "Input size (MB): 0.06\n",
            "Forward/backward pass size (MB): 2.93\n",
            "Params size (MB): 12.32\n",
            "Estimated Total Size (MB): 15.31\n",
            "----------------------------------------------------------------\n"
          ],
          "name": "stdout"
        }
      ]
    },
    {
      "cell_type": "markdown",
      "metadata": {
        "id": "kyTvkdq3gqHM",
        "colab_type": "text"
      },
      "source": [
        "That was a lot of work.....Whew!  \n",
        "\n",
        "_***Q: Isn't there an 'easier' way to define the Model in 2020?***_  \n",
        "A: _**Yes, absolutely!**_  \n",
        "Say hello to the _**[torchlayers library !!!](https://github.com/szymonmaszke/torchlayers)**_  \n",
        "With torchlayers, the above code will be reduced to about 7-8 lines!  \n",
        "But unfortunately, [torchlayers requires Python 3.7](https://github.com/szymonmaszke/torchlayers/issues/5) and above. Colab only  \n",
        "supports Python 3.6.x. \n",
        "\n"
      ]
    },
    {
      "cell_type": "markdown",
      "metadata": {
        "id": "YljS2tiRlHql",
        "colab_type": "text"
      },
      "source": [
        "With our model definition complete, it is time to train! "
      ]
    },
    {
      "cell_type": "markdown",
      "metadata": {
        "id": "f08VsPbPn5bO",
        "colab_type": "text"
      },
      "source": [
        "### 5. Train a PyTorch Model in 2020  \n",
        "\n",
        "PyTorch is infamous among newcomers for it's _'training loops'_.  \n",
        "They can be long and at times a little confusing too. However, most of them   \n",
        "are similar and writing training loops simply turns out to be a boring and repetitive  \n",
        "exercise.  \n",
        "\n",
        "Q: _**This is 2020.**_ Is there a better way?  \n",
        "A: _**Yes, absolutely!**_  \n",
        "Say hello to _**[Poutyne !!!](https://poutyne.org/index.html)**_   \n",
        "\n",
        "\n",
        "Thanks to _Poutyne_, writing training loops in PyTorch is _**FUN !!!**_  \n",
        "\n",
        "PS - Poutyne is pronounced as Poutine or Pu-tin.  \n",
        "![Poutyne](https://drive.google.com/uc?id=142xYy_mJoPSk97SDicvn9zRNxHMpXDxz \"You think loops are boring?!?!\")"
      ]
    },
    {
      "cell_type": "code",
      "metadata": {
        "id": "9gpy_1cRZ6gV",
        "colab_type": "code",
        "outputId": "440aa666-79fb-47b8-bddc-93d3933ff37b",
        "colab": {
          "base_uri": "https://localhost:8080/",
          "height": 168
        }
      },
      "source": [
        "# Install Poutyne \n",
        "!pip install poutyne "
      ],
      "execution_count": 17,
      "outputs": [
        {
          "output_type": "stream",
          "text": [
            "Collecting poutyne\n",
            "\u001b[?25l  Downloading https://files.pythonhosted.org/packages/d8/83/6beb7cc2206e429342fa6385f92e1eccf1d2af8f4cbcdc5e7402cf65a5c5/Poutyne-0.7.2-py3-none-any.whl (75kB)\n",
            "\r\u001b[K     |████▎                           | 10kB 23.9MB/s eta 0:00:01\r\u001b[K     |████████▋                       | 20kB 30.5MB/s eta 0:00:01\r\u001b[K     |█████████████                   | 30kB 34.7MB/s eta 0:00:01\r\u001b[K     |█████████████████▎              | 40kB 35.0MB/s eta 0:00:01\r\u001b[K     |█████████████████████▋          | 51kB 14.9MB/s eta 0:00:01\r\u001b[K     |██████████████████████████      | 61kB 13.7MB/s eta 0:00:01\r\u001b[K     |██████████████████████████████▏ | 71kB 13.2MB/s eta 0:00:01\r\u001b[K     |████████████████████████████████| 81kB 7.0MB/s \n",
            "\u001b[?25hRequirement already satisfied: numpy in /usr/local/lib/python3.6/dist-packages (from poutyne) (1.18.2)\n",
            "Requirement already satisfied: torch in /usr/local/lib/python3.6/dist-packages (from poutyne) (1.4.0)\n",
            "Installing collected packages: poutyne\n",
            "Successfully installed poutyne-0.7.2\n"
          ],
          "name": "stdout"
        }
      ]
    },
    {
      "cell_type": "code",
      "metadata": {
        "id": "LnHdjqkhdzLb",
        "colab_type": "code",
        "colab": {}
      },
      "source": [
        "from poutyne.framework import Model # The core datastructure of poutyne \n",
        "                                    # https://poutyne.org/model.html\n",
        "from poutyne.framework import Callback # We will see it in action in a little while \n",
        "                                       # https://poutyne.org/callbacks.html# "
      ],
      "execution_count": 0,
      "outputs": []
    },
    {
      "cell_type": "code",
      "metadata": {
        "id": "GHVhp0yEiFfs",
        "colab_type": "code",
        "colab": {}
      },
      "source": [
        "from torch import optim # Optimizer: we need it to train our network"
      ],
      "execution_count": 0,
      "outputs": []
    },
    {
      "cell_type": "code",
      "metadata": {
        "id": "-EwMBpBtKE7w",
        "colab_type": "code",
        "colab": {}
      },
      "source": [
        "# A pouytne training loop\n",
        "\n",
        "# A few hyperparamters for the training loop \n",
        "learning_rate = 0.1\n",
        "epochs = 1\n",
        "\n",
        "def poutyne_train(pytorch_model):\n",
        "    \n",
        "    # Select the optimizer and the loss function \n",
        "    optimizer = optim.SGD(pytorch_model.parameters(), lr=learning_rate)\n",
        "    loss_function = nn.CrossEntropyLoss()\n",
        "    # Poutyne Model\n",
        "    model = Model(pytorch_model, optimizer, loss_function, batch_metrics=['accuracy'])\n",
        "    # Send the 'Poutyne model' on GPU/CPU whichever is available \n",
        "    model.to(device)\n",
        "    # Train\n",
        "    model.fit_generator(train_loader, valid_loader, epochs=epochs)\n",
        "    # Test\n",
        "    test_loss, test_acc = model.evaluate_generator(test_loader)\n",
        "    print(f'Test:\\n\\tLoss: {test_loss: .3f}\\n\\tAccuracy: {test_acc: .3f}')\n",
        "\n",
        "    return None"
      ],
      "execution_count": 0,
      "outputs": []
    },
    {
      "cell_type": "code",
      "metadata": {
        "id": "_znXT5djwzeY",
        "colab_type": "code",
        "outputId": "552ed73e-c323-45dc-fcbc-578b0af3fd6b",
        "colab": {
          "base_uri": "https://localhost:8080/",
          "height": 92
        }
      },
      "source": [
        "# Let's start the training guys!!! \n",
        "poutyne_train(mnist1)"
      ],
      "execution_count": 21,
      "outputs": [
        {
          "output_type": "stream",
          "text": [
            "Epoch 1/1 18.10s Step 2400/2400: loss: 0.333819, acc: 89.864583, val_loss: 0.154279, val_acc: 95.508333\n",
            "Test:\n",
            "\tLoss:  0.135\n",
            "\tAccuracy:  95.950\n"
          ],
          "name": "stdout"
        }
      ]
    },
    {
      "cell_type": "markdown",
      "metadata": {
        "id": "wqforBpLr0dk",
        "colab_type": "text"
      },
      "source": [
        "_**CONGRATULATIONS !!! You just trained your first(?) CNN Model!**_   \n",
        "The accuracy looks pretty decent as well! \n"
      ]
    },
    {
      "cell_type": "markdown",
      "metadata": {
        "id": "oapbMW_qtfZZ",
        "colab_type": "text"
      },
      "source": [
        "### 6. Understanding Overfitting \n",
        "\n",
        "However, we are not done yet.  \n",
        "When we are training large deep learning models on massive datasets, the  \n",
        "training can take days and sometimes, [even weeks!](https://ai.googleblog.com/2016/03/train-your-own-image-classifier-with.html \"2 Weeks to train Inception v3!\")  \n",
        "\n",
        "When training on such large datasets, we need to make sure that we are saving   \n",
        "our best model as and when it gets trained after every epoch, lest something   \n",
        "gets awry and we lose days/weeks worth of training (and a lot of money  \n",
        "spent on the electricity!). "
      ]
    },
    {
      "cell_type": "markdown",
      "metadata": {
        "id": "hakTX49k5wnW",
        "colab_type": "text"
      },
      "source": [
        "Before we move any further we need to understand the concept of _**Overfitting**_  \n",
        "in Machine Learning models.  \n",
        "What is _**overfitting?**_  \n",
        "![Fitting Examples](https://drive.google.com/uc?id=1gFOa5I24S7XDDep4WaVMIoivh9JvIp1Y \"https://www.curiousily.com/posts/hackers-guide-to-fixing-underfitting-and-overfitting-models/\")"
      ]
    },
    {
      "cell_type": "markdown",
      "metadata": {
        "id": "gnE0htQzVRAs",
        "colab_type": "text"
      },
      "source": [
        "We are always looking to ensure that our models have a low bias with a low  \n",
        "variance.  \n",
        "However, if we train for too long (too many epochs) our model will start to  \n",
        "overfit.  \n",
        "\n",
        "How do we identify that the model has started overfitting?  \n",
        "![Overfitting](https://drive.google.com/uc?id=1q02q0ge0jldHJm8P_Hq6ECeIvaSlcc36 \"https://mlexplained.com/2018/04/24/overfitting-isnt-simple-overfitting-re-explained-with-priors-biases-and-no-free-lunch/\")  \n",
        "Dotted vertical line is where we should either stop training the model (also  \n",
        "known as _**Early Stopping**_) or we should have some logic in the training  \n",
        "loop that _'saves'_ the model around that time while the training still  \n",
        "continues. "
      ]
    },
    {
      "cell_type": "markdown",
      "metadata": {
        "id": "p6qwm4NIZQNf",
        "colab_type": "text"
      },
      "source": [
        "Our model will also overfit if it is too complex.  \n",
        "For example (y-axis is different),  \n",
        "![Complex Model](https://drive.google.com/uc?id=1vWHgknPrbXEQczdKMliB0RyVgYld3cGa \"https://medium.com/@george.drakos62/cross-validation-70289113a072\")  \n",
        "\n",
        "<br/>Early stopping can save the day!  \n",
        "![alt text](https://drive.google.com/uc?id=1HnBFMWZGHy0UFMUICKU25qBiB-4_G0Xn \"https://www.jeremyjordan.me/deep-neural-networks-preventing-overfitting/\")"
      ]
    },
    {
      "cell_type": "markdown",
      "metadata": {
        "id": "nhvAC7xGapnU",
        "colab_type": "text"
      },
      "source": [
        "A really nice matrix to identify if we are overfitting:  \n",
        "![Overfitting Matrix](https://drive.google.com/uc?id=19bFHepjNgQ9kpqmQdMEW4lDJ-qXi5WF8 \"https://hackernoon.com/memorizing-is-not-learning-6-tricks-to-prevent-overfitting-in-machine-learning-820b091dc42\")  \n",
        "While preparing the above matrix, the author has considered only two sets,  \n",
        "training and testing (kinda Deep Learning _faux pass_!). Since we have a  \n",
        "validation set as well, replace the word _**'Testing'**_ with  \n",
        "_**'Validation'**_. "
      ]
    },
    {
      "cell_type": "markdown",
      "metadata": {
        "id": "5qlOIi5RaeVI",
        "colab_type": "text"
      },
      "source": [
        "How can we avoid _**Overfitting**_?  \n",
        "1. Use a simpler model (less layers)  \n",
        "2. Use _Dropout_ \n",
        "3. Get more training data (if possible) \n",
        "4. Augment the data and add noise  \n",
        "5. Early Stopping  \n",
        "\n",
        "PS - Not an exhaustive list AT ALL.  \n",
        "\n",
        "<br/>Can we write a better training loop now? "
      ]
    },
    {
      "cell_type": "markdown",
      "metadata": {
        "id": "10dxUCy3iR0A",
        "colab_type": "text"
      },
      "source": [
        "### 8. A Better Training Loop  \n",
        "We combine our knowledge of Early Stopping and saving the model at the right  \n",
        "time during training to write a better _Training Loop_.  \n",
        "\n",
        "We use [Callbacks](https://poutyne.org/callbacks.html# \"Click to visit link\") in Poutyne to incorporate Early Stopping and saving the model after every epoch."
      ]
    },
    {
      "cell_type": "code",
      "metadata": {
        "id": "hLajWBECiXsI",
        "colab_type": "code",
        "colab": {}
      },
      "source": [
        "from poutyne.framework import ModelCheckpoint # Saves trained model during training\n",
        "                                              # https://poutyne.org/callbacks.html#checkpointing\n",
        "from poutyne.framework import EarlyStopping # You know what it does! ;) \n",
        "                                            # https://poutyne.org/callbacks.html#poutyne.framework.callbacks.EarlyStopping"
      ],
      "execution_count": 0,
      "outputs": []
    },
    {
      "cell_type": "code",
      "metadata": {
        "id": "icK1WbNHr-ud",
        "colab_type": "code",
        "colab": {}
      },
      "source": [
        "# A better pouytne training loop\n",
        "# Turn the GPU ON\n",
        "\n",
        "# A few hyperparamters for the training loop \n",
        "learning_rate = 0.1\n",
        "epochs = 10 # let's train for more epochs to see the callbacks in action\n",
        "\n",
        "def better_poutyne_train(model_name, pytorch_model):\n",
        "    \n",
        "    callbacks = [\n",
        "    # Save the latest weights \n",
        "    ModelCheckpoint(model_name + '_last_epoch.ckpt', \\\n",
        "                    temporary_filename='last_epoch.ckpt.tmp'),\n",
        "    # EarlyStopping\n",
        "    EarlyStopping(monitor='val_acc', patience=0, verbose=True, mode='max')\n",
        "    ]\n",
        "    \n",
        "    # Select the optimizer and the loss function \n",
        "    optimizer = optim.SGD(pytorch_model.parameters(), lr=learning_rate)\n",
        "    loss_function = nn.CrossEntropyLoss()\n",
        "    # Poutyne Model\n",
        "    model = Model(pytorch_model, optimizer, loss_function, batch_metrics=['accuracy'])\n",
        "    # Send the 'Poutyne model' on GPU/CPU whichever is available \n",
        "    model.to(device)\n",
        "    # Train\n",
        "    model.fit_generator(train_loader, valid_loader, epochs=epochs, callbacks=callbacks)\n",
        "    # Test\n",
        "    test_loss, test_acc = model.evaluate_generator(test_loader)\n",
        "    print(f'Test:\\n\\tLoss: {test_loss: .3f}\\n\\tAccuracy: {test_acc: .3f}')\n",
        "\n",
        "    return None "
      ],
      "execution_count": 0,
      "outputs": []
    },
    {
      "cell_type": "code",
      "metadata": {
        "id": "ffcjuFHa5v75",
        "colab_type": "code",
        "outputId": "cdc45e39-469b-4148-b96e-4b7a49e58787",
        "colab": {
          "base_uri": "https://localhost:8080/",
          "height": 372
        }
      },
      "source": [
        "# Let's initialize a new CNN Model just like before \n",
        "mnist2 = MNISTModel1().to(device)\n",
        "summary(model=mnist2, input_size=(1, 28, 28), batch_size=20) # Summarize"
      ],
      "execution_count": 24,
      "outputs": [
        {
          "output_type": "stream",
          "text": [
            "----------------------------------------------------------------\n",
            "        Layer (type)               Output Shape         Param #\n",
            "================================================================\n",
            "            Conv2d-1            [20, 8, 28, 28]              80\n",
            "            Conv2d-2           [20, 16, 28, 28]           1,168\n",
            "            Linear-3                  [20, 256]       3,211,520\n",
            "            Linear-4                   [20, 64]          16,448\n",
            "           Dropout-5                   [20, 64]               0\n",
            "            Linear-6                   [20, 10]             650\n",
            "================================================================\n",
            "Total params: 3,229,866\n",
            "Trainable params: 3,229,866\n",
            "Non-trainable params: 0\n",
            "----------------------------------------------------------------\n",
            "Input size (MB): 0.06\n",
            "Forward/backward pass size (MB): 2.93\n",
            "Params size (MB): 12.32\n",
            "Estimated Total Size (MB): 15.31\n",
            "----------------------------------------------------------------\n"
          ],
          "name": "stdout"
        }
      ]
    },
    {
      "cell_type": "code",
      "metadata": {
        "id": "UTWPxL4Y6Avb",
        "colab_type": "code",
        "outputId": "0a78dbed-2df1-4669-b83b-6f3a62b00d11",
        "colab": {
          "base_uri": "https://localhost:8080/",
          "height": 185
        }
      },
      "source": [
        "# Time to train in a better way!.....takes about 120secs on GPU \n",
        "# Make sure to Turn the GPU ON\n",
        "better_poutyne_train(model_name='mnist2', pytorch_model=mnist2)"
      ],
      "execution_count": 25,
      "outputs": [
        {
          "output_type": "stream",
          "text": [
            "Epoch 1/10 17.83s Step 2400/2400: loss: 0.444273, acc: 85.441667, val_loss: 0.131998, val_acc: 96.233333\n",
            "Epoch 2/10 17.90s Step 2400/2400: loss: 0.093491, acc: 97.370833, val_loss: 0.071389, val_acc: 97.850000\n",
            "Epoch 3/10 17.74s Step 2400/2400: loss: 0.052596, acc: 98.439583, val_loss: 0.059444, val_acc: 98.366667\n",
            "Epoch 4/10 17.81s Step 2400/2400: loss: 0.034384, acc: 98.925000, val_loss: 0.060570, val_acc: 98.200000\n",
            "Epoch 5/10 17.78s Step 2400/2400: loss: 0.022654, acc: 99.343750, val_loss: 0.068038, val_acc: 98.316667\n",
            "Epoch 00006: early stopping\n",
            "Test:\n",
            "\tLoss:  0.055\n",
            "\tAccuracy:  98.600\n"
          ],
          "name": "stdout"
        }
      ]
    },
    {
      "cell_type": "markdown",
      "metadata": {
        "id": "us0ZQ7nqBGUk",
        "colab_type": "text"
      },
      "source": [
        "Nice! But you showed us those fancy graphs while talking about early stopping.  \n",
        "_**Where are those graphs now?!**_  "
      ]
    },
    {
      "cell_type": "markdown",
      "metadata": {
        "id": "DYsQWympCOuv",
        "colab_type": "text"
      },
      "source": [
        "###9. A Fancy Training Loop  \n",
        "\n",
        "When it comes to productivity enhancing libraries in the PyTorch ecosystem  \n",
        "Poutyne is not alone.  \n",
        "Say hello to [LiveLossPlot !!!](https://github.com/stared/livelossplot \"Click to visit Github Repository\")  \n",
        "\n",
        "Best part is the fact that LiveLossPlot and Poutyne are compatible with each  \n",
        "other! "
      ]
    },
    {
      "cell_type": "code",
      "metadata": {
        "id": "Uiu2yYMU6hYX",
        "colab_type": "code",
        "outputId": "0733c3b7-1c59-41ec-8b02-e6714f716dcd",
        "colab": {
          "base_uri": "https://localhost:8080/",
          "height": 467
        }
      },
      "source": [
        "!pip install livelossplot "
      ],
      "execution_count": 26,
      "outputs": [
        {
          "output_type": "stream",
          "text": [
            "Collecting livelossplot\n",
            "  Downloading https://files.pythonhosted.org/packages/7c/e4/a7884b57113dfe84d3565418820feae7a20964438beb1088b2b08820ad94/livelossplot-0.5.0-py3-none-any.whl\n",
            "Requirement already satisfied: ipython in /usr/local/lib/python3.6/dist-packages (from livelossplot) (5.5.0)\n",
            "Requirement already satisfied: matplotlib; python_version >= \"3.6\" in /usr/local/lib/python3.6/dist-packages (from livelossplot) (3.2.1)\n",
            "Requirement already satisfied: simplegeneric>0.8 in /usr/local/lib/python3.6/dist-packages (from ipython->livelossplot) (0.8.1)\n",
            "Requirement already satisfied: traitlets>=4.2 in /usr/local/lib/python3.6/dist-packages (from ipython->livelossplot) (4.3.3)\n",
            "Requirement already satisfied: pickleshare in /usr/local/lib/python3.6/dist-packages (from ipython->livelossplot) (0.7.5)\n",
            "Requirement already satisfied: prompt-toolkit<2.0.0,>=1.0.4 in /usr/local/lib/python3.6/dist-packages (from ipython->livelossplot) (1.0.18)\n",
            "Requirement already satisfied: setuptools>=18.5 in /usr/local/lib/python3.6/dist-packages (from ipython->livelossplot) (46.1.3)\n",
            "Requirement already satisfied: pexpect; sys_platform != \"win32\" in /usr/local/lib/python3.6/dist-packages (from ipython->livelossplot) (4.8.0)\n",
            "Requirement already satisfied: decorator in /usr/local/lib/python3.6/dist-packages (from ipython->livelossplot) (4.4.2)\n",
            "Requirement already satisfied: pygments in /usr/local/lib/python3.6/dist-packages (from ipython->livelossplot) (2.1.3)\n",
            "Requirement already satisfied: cycler>=0.10 in /usr/local/lib/python3.6/dist-packages (from matplotlib; python_version >= \"3.6\"->livelossplot) (0.10.0)\n",
            "Requirement already satisfied: python-dateutil>=2.1 in /usr/local/lib/python3.6/dist-packages (from matplotlib; python_version >= \"3.6\"->livelossplot) (2.8.1)\n",
            "Requirement already satisfied: pyparsing!=2.0.4,!=2.1.2,!=2.1.6,>=2.0.1 in /usr/local/lib/python3.6/dist-packages (from matplotlib; python_version >= \"3.6\"->livelossplot) (2.4.6)\n",
            "Requirement already satisfied: numpy>=1.11 in /usr/local/lib/python3.6/dist-packages (from matplotlib; python_version >= \"3.6\"->livelossplot) (1.18.2)\n",
            "Requirement already satisfied: kiwisolver>=1.0.1 in /usr/local/lib/python3.6/dist-packages (from matplotlib; python_version >= \"3.6\"->livelossplot) (1.2.0)\n",
            "Requirement already satisfied: ipython-genutils in /usr/local/lib/python3.6/dist-packages (from traitlets>=4.2->ipython->livelossplot) (0.2.0)\n",
            "Requirement already satisfied: six in /usr/local/lib/python3.6/dist-packages (from traitlets>=4.2->ipython->livelossplot) (1.12.0)\n",
            "Requirement already satisfied: wcwidth in /usr/local/lib/python3.6/dist-packages (from prompt-toolkit<2.0.0,>=1.0.4->ipython->livelossplot) (0.1.9)\n",
            "Requirement already satisfied: ptyprocess>=0.5 in /usr/local/lib/python3.6/dist-packages (from pexpect; sys_platform != \"win32\"->ipython->livelossplot) (0.6.0)\n",
            "Installing collected packages: livelossplot\n",
            "Successfully installed livelossplot-0.5.0\n"
          ],
          "name": "stdout"
        }
      ]
    },
    {
      "cell_type": "code",
      "metadata": {
        "id": "SXlPkpKsTsfn",
        "colab_type": "code",
        "colab": {}
      },
      "source": [
        "from livelossplot import PlotLossesPoutyne # This module talks with Poutyne"
      ],
      "execution_count": 0,
      "outputs": []
    },
    {
      "cell_type": "code",
      "metadata": {
        "id": "dLpRKgNOGWFK",
        "colab_type": "code",
        "colab": {}
      },
      "source": [
        "# A fancy pouytne training loop\n",
        "# Turn the GPU ON\n",
        "\n",
        "# A few hyperparamters for the training loop \n",
        "learning_rate = 0.1\n",
        "epochs = 10 # let's train for more epochs to see the callbacks in action\n",
        "\n",
        "# setting up the livelossplot callback\n",
        "plotlosses = PlotLossesPoutyne()\n",
        "\n",
        "def fancy_poutyne_train(model_name, pytorch_model):\n",
        "    \n",
        "    callbacks = [\n",
        "    # Save the latest weights \n",
        "    ModelCheckpoint(model_name + '_last_epoch.ckpt', \\\n",
        "                    temporary_filename='last_epoch.ckpt.tmp'),\n",
        "    # EarlyStopping\n",
        "    EarlyStopping(monitor='val_acc', patience=0, verbose=True, mode='max'),\n",
        "    # Adding the LiveLossPlot Callback\n",
        "    plotlosses\n",
        "    ]\n",
        "    \n",
        "    # Select the optimizer and the loss function \n",
        "    optimizer = optim.SGD(pytorch_model.parameters(), lr=learning_rate)\n",
        "    loss_function = nn.CrossEntropyLoss()\n",
        "    # Poutyne Model\n",
        "    model = Model(pytorch_model, optimizer, loss_function, batch_metrics=['accuracy'])\n",
        "    # Send the 'Poutyne model' on GPU/CPU whichever is available \n",
        "    model.to(device)\n",
        "    # Train\n",
        "    model.fit_generator(train_loader, valid_loader, epochs=epochs, callbacks=callbacks)\n",
        "    # Test\n",
        "    test_loss, test_acc = model.evaluate_generator(test_loader)\n",
        "    print(f'Test:\\n\\tLoss: {test_loss: .3f}\\n\\tAccuracy: {test_acc: .3f}')\n",
        "\n",
        "    return None "
      ],
      "execution_count": 0,
      "outputs": []
    },
    {
      "cell_type": "code",
      "metadata": {
        "id": "Bj9sG_AUUShG",
        "colab_type": "code",
        "colab": {
          "base_uri": "https://localhost:8080/",
          "height": 372
        },
        "outputId": "7942539b-2105-4bb7-e43a-3fd3715c97e1"
      },
      "source": [
        "# Yet another CNN Model \n",
        "mnist3 = MNISTModel1().to(device)\n",
        "summary(model=mnist3, input_size=(1, 28, 28), batch_size=20) # Summarize"
      ],
      "execution_count": 29,
      "outputs": [
        {
          "output_type": "stream",
          "text": [
            "----------------------------------------------------------------\n",
            "        Layer (type)               Output Shape         Param #\n",
            "================================================================\n",
            "            Conv2d-1            [20, 8, 28, 28]              80\n",
            "            Conv2d-2           [20, 16, 28, 28]           1,168\n",
            "            Linear-3                  [20, 256]       3,211,520\n",
            "            Linear-4                   [20, 64]          16,448\n",
            "           Dropout-5                   [20, 64]               0\n",
            "            Linear-6                   [20, 10]             650\n",
            "================================================================\n",
            "Total params: 3,229,866\n",
            "Trainable params: 3,229,866\n",
            "Non-trainable params: 0\n",
            "----------------------------------------------------------------\n",
            "Input size (MB): 0.06\n",
            "Forward/backward pass size (MB): 2.93\n",
            "Params size (MB): 12.32\n",
            "Estimated Total Size (MB): 15.31\n",
            "----------------------------------------------------------------\n"
          ],
          "name": "stdout"
        }
      ]
    },
    {
      "cell_type": "code",
      "metadata": {
        "id": "zwA8L0XWUbVI",
        "colab_type": "code",
        "colab": {
          "base_uri": "https://localhost:8080/",
          "height": 513
        },
        "outputId": "8d692edf-71b4-49c2-a90e-01c8accb67ad"
      },
      "source": [
        "# Let the Fancy training loop start! \n",
        "# Make sure to Turn the GPU ON\n",
        "fancy_poutyne_train(model_name='mnist3', pytorch_model=mnist3)"
      ],
      "execution_count": 30,
      "outputs": [
        {
          "output_type": "display_data",
          "data": {
            "image/png": "[encoded data removed]",
            "text/plain": [
              "<Figure size 864x576 with 2 Axes>"
            ]
          },
          "metadata": {
            "tags": []
          }
        },
        {
          "output_type": "stream",
          "text": [
            "Accuracy\n",
            "\ttraining         \t (min:   89.565, max:   99.477, cur:   99.477)\n",
            "\tvalidation       \t (min:   97.000, max:   98.408, cur:   98.242)\n",
            "Loss\n",
            "\ttraining         \t (min:    0.018, max:    0.343, cur:    0.018)\n",
            "\tvalidation       \t (min:    0.061, max:    0.095, cur:    0.079)\n",
            "Epoch 00007: early stopping\n",
            "Test:\n",
            "\tLoss:  0.081\n",
            "\tAccuracy:  98.150\n"
          ],
          "name": "stdout"
        }
      ]
    },
    {
      "cell_type": "code",
      "metadata": {
        "id": "fpqrJYFZUpig",
        "colab_type": "code",
        "colab": {}
      },
      "source": [
        ""
      ],
      "execution_count": 0,
      "outputs": []
    }
  ]
}