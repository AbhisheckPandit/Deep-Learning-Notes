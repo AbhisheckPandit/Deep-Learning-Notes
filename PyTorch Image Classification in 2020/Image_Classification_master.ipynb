{
  "nbformat": 4,
  "nbformat_minor": 0,
  "metadata": {
    "colab": {
      "name": "Image Classification 1.ipynb",
      "provenance": [],
      "collapsed_sections": [],
      "toc_visible": true,
      "authorship_tag": "ABX9TyMjG96FOb0/csP2a0RG5WBj",
      "include_colab_link": true
    },
    "kernelspec": {
      "name": "python3",
      "display_name": "Python 3"
    }
  },
  "cells": [
    {
      "cell_type": "markdown",
      "metadata": {
        "id": "view-in-github",
        "colab_type": "text"
      },
      "source": [
        "<a href=\"https://colab.research.google.com/github/pranjalchaubey/Deep-Learning-Notes/blob/master/PyTorch%20Image%20Classification%20in%202020/Image_Classification_1.ipynb\" target=\"_parent\"><img src=\"https://colab.research.google.com/assets/colab-badge.svg\" alt=\"Open In Colab\"/></a>"
      ]
    },
    {
      "cell_type": "markdown",
      "metadata": {
        "id": "ut1uDoXJzCTu",
        "colab_type": "text"
      },
      "source": [
        "# Image Classification using PyTorch in 2020  \n",
        "\n",
        "In this notebook we will be utilizing some of the latest advancements in the  \n",
        "[PyTorch Ecosystem](https://pytorch.org/ecosystem/) to build a simple image classifier using CNNs.   \n",
        "\n",
        "Along the way, we will learn some PyTorch and CNN (Convolution Neural  \n",
        "Networks) basics. "
      ]
    },
    {
      "cell_type": "markdown",
      "metadata": {
        "id": "rFhLAYud0CQK",
        "colab_type": "text"
      },
      "source": [
        "### 1. Get the Dataset Onboard\n",
        "\n",
        "In any Machine Learning/Data Science problem, the first step is always to get  \n",
        "the dataset.  \n",
        "\n",
        "In our case, to get things started, we will initially use the simple [MNIST Dataset](https://en.wikipedia.org/wiki/MNIST_database).  \n",
        "MNIST is largely considered the _'Hello World!'_ of AI/ML. The dataset was  \n",
        "created way back in the late 90s. The [official description](http://yann.lecun.com/exdb/mnist/) states,  \n",
        "\n",
        "_\"The MNIST database of handwritten digits, available from this page, has a training set of 60,000 examples, and a test set of 10,000 examples. It is a subset of a larger set available from NIST. The digits have been size-normalized and centered in a fixed-size image._  \n",
        "\n",
        "_It is a good database for people who want to try learning techniques and pattern recognition methods on real-world data while spending minimal efforts on preprocessing and formatting.\"_  \n",
        "\n",
        "<br/>You might be wondering, how to get this dataset in our Colab Workspace?  \n",
        "PyTorch comes with a _datasets_ module called, [Torchvision.Datasets](https://pytorch.org/docs/stable/torchvision/datasets.html).  \n",
        "Torchvision.Datasets module contains a number of publically available datasets  \n",
        "including the one we are looking for, MNIST. You are encouraged to explore the  \n",
        "Torchvision.Datasets documentation page. "
      ]
    },
    {
      "cell_type": "code",
      "metadata": {
        "id": "tia9JXE46rJF",
        "colab_type": "code",
        "colab": {}
      },
      "source": [
        "# Lets import some libraries \n",
        "import torch # PyTorch \n",
        "from torchvision import datasets # Datasets module \n",
        "import torchvision.transforms as transforms # Image Transforms \n",
        "from torch.utils.data.sampler import SubsetRandomSampler # Sampler "
      ],
      "execution_count": 0,
      "outputs": []
    },
    {
      "cell_type": "code",
      "metadata": {
        "id": "rVP4itgp7jC9",
        "colab_type": "code",
        "colab": {}
      },
      "source": [
        "# The Data Science Regulars\n",
        "import numpy as np \n",
        "import pandas as pd"
      ],
      "execution_count": 0,
      "outputs": []
    },
    {
      "cell_type": "markdown",
      "metadata": {
        "id": "6h8vdeaZ7sj_",
        "colab_type": "text"
      },
      "source": [
        "Checking out the torchvision.datasets module documentation, we find  \n",
        "![Torchvision.Dataset](https://drive.google.com/uc?id=1Zsgc5_PnO9BQQ5wqssf67A5Ge-qIXtLh)\n",
        "\n"
      ]
    },
    {
      "cell_type": "code",
      "metadata": {
        "id": "UapF3_qS67Pi",
        "colab_type": "code",
        "colab": {}
      },
      "source": [
        "# convert data to torch.FloatTensor\n",
        "transform = transforms.ToTensor()\n",
        "\n",
        "# choose the training and test datasets\n",
        "train_data = datasets.MNIST(root='data', train=True,\n",
        "                                   download=True, transform=transform)\n",
        "test_data = datasets.MNIST(root='data', train=False,\n",
        "                                  download=True, transform=transform)"
      ],
      "execution_count": 0,
      "outputs": []
    },
    {
      "cell_type": "markdown",
      "metadata": {
        "id": "NnZrOAcMZRTp",
        "colab_type": "text"
      },
      "source": [
        "### 2. Train Validation Test Split \n",
        "\n",
        "Once the download is complete (usually instantaneous), you should be able to  \n",
        "see the MNIST dataset downloaded inside the _'data'_ folder on the left hand  \n",
        "side. (Click on the _Files_ icon on the left sidebar)  \n",
        "\n",
        "We have both the training and the test sets. Now we need to bifurcate the   \n",
        "training set in two parts,  \n",
        "1. Training Set (80% images)\n",
        "2. Validation Set (20% images)  \n",
        "\n",
        "The algorithm we use to do this is quite simple,  \n",
        "1. Create a list of indices of the training data \n",
        "2. Randomly Shuffle those indices \n",
        "3. Slice the indices in 80-20 split \n",
        "\n",
        "[Why create a _Validation Set_ at all?](https://datascience.stackexchange.com/questions/18339/why-use-both-validation-set-and-test-set) "
      ]
    },
    {
      "cell_type": "code",
      "metadata": {
        "id": "IrsPBIfRYwNc",
        "colab_type": "code",
        "outputId": "b30659a7-0609-4fa7-96f3-137bfb13367c",
        "colab": {
          "base_uri": "https://localhost:8080/",
          "height": 54
        }
      },
      "source": [
        "# obtain training indices that will be used for validation\n",
        "\n",
        "# 1. Create a list of indices of the training data  \n",
        "num_train = len(train_data)\n",
        "print('num_train = len(train_data) ==> ', num_train)\n",
        "indices = list(range(num_train))\n",
        "print('len(indices) ==>', len(indices))\n",
        "# print(indices)"
      ],
      "execution_count": 69,
      "outputs": [
        {
          "output_type": "stream",
          "text": [
            "num_train = len(train_data) ==>  60000\n",
            "len(indices) ==> 60000\n"
          ],
          "name": "stdout"
        }
      ]
    },
    {
      "cell_type": "code",
      "metadata": {
        "id": "xjDu_dd35TZZ",
        "colab_type": "code",
        "colab": {}
      },
      "source": [
        "# 2. Randomly Shuffle those indices\n",
        "np.random.shuffle(indices)"
      ],
      "execution_count": 0,
      "outputs": []
    },
    {
      "cell_type": "code",
      "metadata": {
        "id": "UKqrNSg-5VMq",
        "colab_type": "code",
        "outputId": "ae7501d5-6e4a-45de-d2a4-7d8a800cbdc6",
        "colab": {
          "base_uri": "https://localhost:8080/",
          "height": 54
        }
      },
      "source": [
        "# 3. Slice the indices in 80-20 split\n",
        "# percentage of training set to use as validation\n",
        "valid_size = 0.2 # ie Train Set divided into two parts \n",
        "                 # 80% Train 20% Validation \n",
        "split = int(np.floor(valid_size * num_train))\n",
        "train_idx, valid_idx = indices[split:], indices[:split]\n",
        "\n",
        "print('len(train_idx) ==> ', len(train_idx))\n",
        "print('len(valid_idx) ==> ', len(valid_idx))"
      ],
      "execution_count": 71,
      "outputs": [
        {
          "output_type": "stream",
          "text": [
            "len(train_idx) ==>  48000\n",
            "len(valid_idx) ==>  12000\n"
          ],
          "name": "stdout"
        }
      ]
    },
    {
      "cell_type": "markdown",
      "metadata": {
        "id": "14RHH0Jt8_k_",
        "colab_type": "text"
      },
      "source": [
        "Please Note that so far we have just been fiddling around with the _'indices'_,  \n",
        "not the actual images as such.....but Why?  \n",
        "Answer below.  "
      ]
    },
    {
      "cell_type": "markdown",
      "metadata": {
        "id": "IlTpuhxVAfCK",
        "colab_type": "text"
      },
      "source": [
        "### 3. Prepare the Dataloaders \n",
        "\n",
        "By now, we have downloaded the dataset, and created a train/valid/test split.  \n",
        "Q: How do we _'push'_ this data into a PyTorch model?  \n",
        "A: PyTorch has a mechanism to _'ingest'_ data from a dataset through a module  \n",
        "known as `DataLoader`.  \n",
        "\n",
        "A great analogy,  \n",
        "![DataLoader](https://drive.google.com/uc?id=1U4IG-5lbFGQQS4xwQPU2QiYdR1hFGBZ5)\n",
        "\n",
        "[Great tutorial on DataLoaders.](https://www.journaldev.com/36576/pytorch-dataloader)  \n",
        "[Ultimate tutorial on DataLoaders.](https://stanford.edu/~shervine/blog/pytorch-how-to-generate-data-parallel) \n",
        "\n",
        "Time to prepare the _DataLoaders_ now!  \n",
        "\n",
        "![DataLoader Documentation](https://drive.google.com/uc?id=1YFbWIGwNlL5Kp4Zvt52Ck0_Wk4MNfxS9)"
      ]
    },
    {
      "cell_type": "code",
      "metadata": {
        "id": "5_Zzb55d8k7o",
        "colab_type": "code",
        "colab": {}
      },
      "source": [
        "# define samplers for obtaining training and validation batches\n",
        "# remember train_idx and valid_idx were the indices that we shuffled above\n",
        "train_sampler = SubsetRandomSampler(train_idx)\n",
        "valid_sampler = SubsetRandomSampler(valid_idx)\n",
        "\n",
        "# prepare dataloaders\n",
        "# number of subprocesses to use for data loading\n",
        "num_workers = 0 # do not modify \n",
        "# how many samples per batch to load\n",
        "batch_size = 20 # ie 20 images per batch \n",
        "\n",
        "# Training Set \n",
        "train_loader = torch.utils.data.DataLoader(dataset=train_data, \\\n",
        "                                           batch_size=batch_size, \\\n",
        "                                           sampler=train_sampler, \\\n",
        "                                           num_workers=num_workers)\n",
        "# Validation Set \n",
        "valid_loader = torch.utils.data.DataLoader(dataset=train_data, \\\n",
        "                                           batch_size=batch_size, \\\n",
        "                                           sampler=valid_sampler, \\\n",
        "                                           num_workers=num_workers)\n",
        "# Test Set \n",
        "# Notice we have not used a 'sampler' here as it was not required \n",
        "test_loader = torch.utils.data.DataLoader(dataset=test_data, \\\n",
        "                                          batch_size=batch_size, \\\n",
        "                                          num_workers=num_workers)"
      ],
      "execution_count": 0,
      "outputs": []
    },
    {
      "cell_type": "markdown",
      "metadata": {
        "id": "ZBy_7mS_4hdc",
        "colab_type": "text"
      },
      "source": [
        "We got the dataloaders working, but how do we know that they are working indeed?  \n",
        "Visualizing the data from the dataloaders would be a good check! "
      ]
    },
    {
      "cell_type": "code",
      "metadata": {
        "id": "JrRjUiQG5uOu",
        "colab_type": "code",
        "outputId": "cf85c47e-c713-46c4-b732-b9a3a0b0350e",
        "colab": {
          "base_uri": "https://localhost:8080/",
          "height": 148
        }
      },
      "source": [
        "# Visualize a whole batch of data from the dataloaders \n",
        "\n",
        "dataiter = iter(train_loader) # Get the whole batch \n",
        "images, labels = dataiter.next() # Extract the images and their labels \n",
        "print(len(images), len(labels)) # Should be equal to the batch size, 20\n",
        "print('Correct Labels: ', labels)\n",
        "images = images.numpy() # Convert the images to numpy array for matplotlib\n",
        "print('Shape of our images tensor =', images.shape)\n",
        "print('Batch Size =', images.shape[0], 'Image Height/Width =', \\\n",
        "                                                        images.shape[2])\n",
        "\n",
        "print()\n",
        "print('Squeezing the images tensor =', np.squeeze(images).shape)\n",
        "print('Un-squeezing the images tensor (axis=1) =', \\\n",
        "                                        np.expand_dims(images, axis=1).shape)"
      ],
      "execution_count": 89,
      "outputs": [
        {
          "output_type": "stream",
          "text": [
            "20 20\n",
            "Correct Labels:  tensor([0, 4, 5, 0, 2, 0, 3, 1, 3, 5, 3, 7, 2, 7, 6, 1, 6, 2, 4, 8])\n",
            "Shape of our images tensor = (20, 1, 28, 28)\n",
            "Batch Size = 20 Image Height/Width = 28\n",
            "\n",
            "Squeezing the images tensor = (20, 28, 28)\n",
            "Un-squeezing the images tensor (axis=1) = (20, 1, 1, 28, 28)\n"
          ],
          "name": "stdout"
        }
      ]
    },
    {
      "cell_type": "code",
      "metadata": {
        "id": "Y58P0-etIck4",
        "colab_type": "code",
        "colab": {}
      },
      "source": [
        "import matplotlib.pyplot as plt \n",
        "# Plots are plotted inside the notebooks, 'inline'\n",
        "%matplotlib inline "
      ],
      "execution_count": 0,
      "outputs": []
    },
    {
      "cell_type": "markdown",
      "metadata": {
        "id": "yL8sSrheGg9-",
        "colab_type": "text"
      },
      "source": [
        "With matplotlib, always remember that _figures contain axes which in turn   \n",
        "contain the plots_.  \n",
        "![Real Python](https://drive.google.com/uc?id=1KdlAGoCK8Lj9pFkrZf52oqOJK3sH3JuH)  \n",
        "\n",
        "[Great tutorial on Matplotlib.](https://realpython.com/python-matplotlib-guide/)"
      ]
    },
    {
      "cell_type": "code",
      "metadata": {
        "id": "cC5KTKSv6Y8T",
        "colab_type": "code",
        "outputId": "988d6e6a-da1e-4c21-e5a6-8ada05f97447",
        "colab": {
          "base_uri": "https://localhost:8080/",
          "height": 245
        }
      },
      "source": [
        "# Plot the whole batch \n",
        "fig = plt.figure(figsize=(25, 4))\n",
        "# Loop over all the images in the batch(20)\n",
        "for idx in np.arange(20):\n",
        "    # Add a subplot for the image \n",
        "    ax = fig.add_subplot(2, 20/2, idx+1, xticks=[], yticks=[])\n",
        "    # Populate the subplot with the image \n",
        "    ax.imshow(np.squeeze(images[idx]), cmap='gray')\n",
        "    # print out the correct label for each image\n",
        "    # .item() gets the value contained in a Tensor\n",
        "    ax.set_title(str(labels[idx].item()))"
      ],
      "execution_count": 75,
      "outputs": [
        {
          "output_type": "display_data",
          "data": {
            "image/png": "[encoded data removed]",
            "text/plain": [
              "<Figure size 1800x288 with 20 Axes>"
            ]
          },
          "metadata": {
            "tags": []
          }
        }
      ]
    },
    {
      "cell_type": "code",
      "metadata": {
        "id": "ls_AFh0FzMkG",
        "colab_type": "code",
        "outputId": "95cdbede-9d44-4145-a409-604027907209",
        "colab": {
          "base_uri": "https://localhost:8080/",
          "height": 540
        }
      },
      "source": [
        "# A neat little numpy trick\n",
        "# Just for fun! \n",
        "\n",
        "dataiter = iter(train_loader)  \n",
        "images, labels = dataiter.next() \n",
        "images = images.numpy() \n",
        "np.set_printoptions(precision=2, threshold=None, edgeitems=None, \\\n",
        "                    linewidth=180, suppress=None)\n",
        "print(images[0])"
      ],
      "execution_count": 109,
      "outputs": [
        {
          "output_type": "stream",
          "text": [
            "[[[0.   0.   0.   0.   0.   0.   0.   0.   0.   0.   0.   0.   0.   0.   0.   0.   0.   0.   0.   0.   0.   0.   0.   0.   0.   0.   0.   0.  ]\n",
            "  [0.   0.   0.   0.   0.   0.   0.   0.   0.   0.   0.   0.   0.   0.   0.   0.   0.   0.   0.   0.   0.   0.   0.   0.   0.   0.   0.   0.  ]\n",
            "  [0.   0.   0.   0.   0.   0.   0.   0.   0.   0.   0.   0.   0.   0.   0.   0.   0.   0.   0.   0.   0.   0.   0.   0.   0.   0.   0.   0.  ]\n",
            "  [0.   0.   0.   0.   0.   0.   0.   0.   0.   0.   0.   0.   0.   0.   0.   0.   0.   0.   0.   0.   0.   0.   0.   0.   0.   0.   0.   0.  ]\n",
            "  [0.   0.   0.   0.   0.   0.   0.   0.   0.   0.   0.   0.   0.   0.   0.   0.   0.   0.   0.   0.   0.   0.   0.   0.   0.   0.   0.   0.  ]\n",
            "  [0.   0.   0.   0.   0.   0.   0.   0.   0.   0.   0.   0.   0.   0.   0.   0.   0.   0.37 0.99 0.99 0.99 0.84 0.   0.   0.   0.   0.   0.  ]\n",
            "  [0.   0.   0.   0.   0.   0.   0.   0.   0.   0.   0.   0.   0.   0.   0.   0.45 0.94 0.96 0.99 0.99 0.99 0.83 0.   0.   0.   0.   0.   0.  ]\n",
            "  [0.   0.   0.   0.   0.   0.   0.   0.   0.   0.   0.   0.   0.   0.   0.   0.47 0.99 0.99 0.99 0.99 0.8  0.09 0.   0.   0.   0.   0.   0.  ]\n",
            "  [0.   0.   0.   0.   0.   0.   0.   0.   0.   0.   0.   0.   0.   0.   0.45 0.91 0.99 0.99 0.99 0.99 0.78 0.   0.   0.   0.   0.   0.   0.  ]\n",
            "  [0.   0.   0.   0.   0.   0.   0.   0.   0.   0.   0.   0.   0.   0.   0.52 0.99 0.99 0.99 0.99 0.78 0.16 0.   0.   0.   0.   0.   0.   0.  ]\n",
            "  [0.   0.   0.   0.   0.   0.   0.   0.   0.   0.   0.   0.   0.   0.   0.52 0.99 0.99 0.99 0.75 0.19 0.   0.   0.   0.   0.   0.   0.   0.  ]\n",
            "  [0.   0.   0.   0.   0.   0.   0.   0.   0.   0.   0.   0.   0.   0.4  0.84 0.99 0.99 0.99 0.67 0.   0.   0.   0.   0.   0.   0.   0.   0.  ]\n",
            "  [0.   0.   0.   0.   0.   0.   0.   0.   0.   0.   0.   0.   0.4  0.84 0.99 0.99 0.99 0.75 0.25 0.   0.   0.   0.   0.   0.   0.   0.   0.  ]\n",
            "  [0.   0.   0.   0.   0.   0.   0.   0.   0.   0.   0.   0.   0.63 0.99 0.99 0.99 0.99 0.62 0.   0.   0.   0.   0.   0.   0.   0.   0.   0.  ]\n",
            "  [0.   0.   0.   0.   0.   0.   0.   0.   0.   0.   0.   0.   0.63 0.99 0.99 0.99 0.76 0.29 0.   0.   0.   0.   0.   0.   0.   0.   0.   0.  ]\n",
            "  [0.   0.   0.   0.   0.   0.   0.   0.   0.   0.   0.   0.33 0.8  0.99 0.99 1.   0.57 0.   0.   0.   0.   0.   0.   0.   0.   0.   0.   0.  ]\n",
            "  [0.   0.   0.   0.   0.   0.   0.   0.   0.   0.   0.31 0.81 0.99 0.99 0.99 0.79 0.33 0.   0.   0.   0.   0.   0.   0.   0.   0.   0.   0.  ]\n",
            "  [0.   0.   0.   0.   0.   0.   0.   0.   0.   0.   0.73 0.99 0.99 0.99 0.99 0.52 0.   0.   0.   0.   0.   0.   0.   0.   0.   0.   0.   0.  ]\n",
            "  [0.   0.   0.   0.   0.   0.   0.   0.   0.   0.25 0.81 0.99 0.99 0.99 0.99 0.52 0.   0.   0.   0.   0.   0.   0.   0.   0.   0.   0.   0.  ]\n",
            "  [0.   0.   0.   0.   0.   0.   0.   0.   0.   0.78 0.99 0.99 0.99 0.99 0.99 0.52 0.   0.   0.   0.   0.   0.   0.   0.   0.   0.   0.   0.  ]\n",
            "  [0.   0.   0.   0.   0.   0.   0.   0.   0.   0.78 0.99 0.99 0.99 0.99 0.88 0.42 0.   0.   0.   0.   0.   0.   0.   0.   0.   0.   0.   0.  ]\n",
            "  [0.   0.   0.   0.   0.   0.   0.   0.   0.13 0.82 0.99 0.99 0.99 0.9  0.39 0.   0.   0.   0.   0.   0.   0.   0.   0.   0.   0.   0.   0.  ]\n",
            "  [0.   0.   0.   0.   0.   0.   0.   0.   0.84 0.99 0.99 0.99 0.92 0.37 0.   0.   0.   0.   0.   0.   0.   0.   0.   0.   0.   0.   0.   0.  ]\n",
            "  [0.   0.   0.   0.   0.   0.   0.   0.   0.84 0.99 0.99 0.99 0.36 0.   0.   0.   0.   0.   0.   0.   0.   0.   0.   0.   0.   0.   0.   0.  ]\n",
            "  [0.   0.   0.   0.   0.   0.   0.   0.   0.84 0.99 0.99 0.99 0.36 0.   0.   0.   0.   0.   0.   0.   0.   0.   0.   0.   0.   0.   0.   0.  ]\n",
            "  [0.   0.   0.   0.   0.   0.   0.   0.   0.   0.   0.   0.   0.   0.   0.   0.   0.   0.   0.   0.   0.   0.   0.   0.   0.   0.   0.   0.  ]\n",
            "  [0.   0.   0.   0.   0.   0.   0.   0.   0.   0.   0.   0.   0.   0.   0.   0.   0.   0.   0.   0.   0.   0.   0.   0.   0.   0.   0.   0.  ]\n",
            "  [0.   0.   0.   0.   0.   0.   0.   0.   0.   0.   0.   0.   0.   0.   0.   0.   0.   0.   0.   0.   0.   0.   0.   0.   0.   0.   0.   0.  ]]]\n"
          ],
          "name": "stdout"
        }
      ]
    },
    {
      "cell_type": "markdown",
      "metadata": {
        "id": "2APl70a5LH66",
        "colab_type": "text"
      },
      "source": [
        "Our dataloaders seem to be working fine and out data looks great!  \n",
        "<br/> \n",
        "Time to build our CNN based image classification model in PyTorch.....in 2020! "
      ]
    },
    {
      "cell_type": "markdown",
      "metadata": {
        "id": "LGFnKhH5Lh9t",
        "colab_type": "text"
      },
      "source": [
        "### 4. Build a PyTorch CNN Model\n",
        "But first, we need to know what are the components of a typical CNN based  \n",
        "image classification architecture. \n",
        "\n"
      ]
    },
    {
      "cell_type": "markdown",
      "metadata": {
        "id": "XjUD_2bKKteP",
        "colab_type": "text"
      },
      "source": [
        "| INSERT CNN INTRODUCTION | "
      ]
    },
    {
      "cell_type": "markdown",
      "metadata": {
        "id": "vGqPxOlPLGUT",
        "colab_type": "text"
      },
      "source": [
        "| INSERT PYTORCH INTRODUCTION | "
      ]
    },
    {
      "cell_type": "code",
      "metadata": {
        "id": "hHTtCrNxQ_X7",
        "colab_type": "code",
        "outputId": "dc6ee8f7-2115-45d4-9e7f-04929d3535ec",
        "colab": {
          "base_uri": "https://localhost:8080/",
          "height": 92
        }
      },
      "source": [
        "# Let's install some really cool libraries that will make our lives easy \n",
        "!pip install poutyne # https://poutyne.org/index.html\n",
        "!pip install torchsummary # https://github.com/sksq96/pytorch-summary "
      ],
      "execution_count": 77,
      "outputs": [
        {
          "output_type": "stream",
          "text": [
            "Requirement already satisfied: poutyne in /usr/local/lib/python3.6/dist-packages (0.7.2)\n",
            "Requirement already satisfied: torch in /usr/local/lib/python3.6/dist-packages (from poutyne) (1.4.0)\n",
            "Requirement already satisfied: numpy in /usr/local/lib/python3.6/dist-packages (from poutyne) (1.18.2)\n",
            "Requirement already satisfied: torchsummary in /usr/local/lib/python3.6/dist-packages (1.5.1)\n"
          ],
          "name": "stdout"
        }
      ]
    },
    {
      "cell_type": "code",
      "metadata": {
        "id": "NylWMGTf1QbN",
        "colab_type": "code",
        "colab": {}
      },
      "source": [
        "# Let's import some cool functions from these libraries \n",
        "from poutyne.framework import Model # The core datastructure of poutyne \n",
        "from poutyne.framework import ModelCheckpoint # Saves trained model during training\n",
        "from poutyne.framework import Callback # We will see it in action in a little while \n",
        "\n",
        "from torchsummary import summary # Produces a summary of our model"
      ],
      "execution_count": 0,
      "outputs": []
    },
    {
      "cell_type": "markdown",
      "metadata": {
        "id": "wYblCGur448H",
        "colab_type": "text"
      },
      "source": [
        "Time to define our model!  \n",
        "But before we start off with the model definition, let's have a look at what  \n",
        "the PyTorch Documentation says about the Convolutional NNs.  \n",
        "![Conv2d Layer](https://drive.google.com/uc?id=1odHZIXURYjogjUcyCQ56RYfQPqgzO7DX \"Conv2D\")  \n",
        "\n",
        "We also need to check out about the MaxPool, Dropout and Linear Layers.  \n",
        "\n",
        "![MaxPool 2D](https://drive.google.com/uc?id=1r1EeLHrV5oAG4OUyRSm0lw2OcZyJQ7ne \"MaxPool2D Layer\")  \n",
        "\n",
        "![Dropout Layer](https://drive.google.com/uc?id=1kYgb4wDrGEBEF5WB169N7Q5hTrwDDO1d \"Dropout Layer\")  \n",
        "\n",
        "![Linear Layer](https://drive.google.com/uc?id=1rrIEqPtun_8Td1js76B2hv22Xm5tjY6m \"Linear Layer\")  "
      ]
    },
    {
      "cell_type": "markdown",
      "metadata": {
        "id": "q0zv4wi7BNRL",
        "colab_type": "text"
      },
      "source": [
        "Did you guys notice a weird anomaly in the Conv2d and Linear layers?  \n",
        "```\n",
        "torch.nn.Conv2d(in_channels, out_channels, kernel_size, stride=1, padding=0, dilation=1, groups=1, bias=True, padding_mode='zeros')\n",
        "```  \n",
        "```\n",
        "torch.nn.Linear(in_features, out_features, bias=True)\n",
        "```"
      ]
    },
    {
      "cell_type": "markdown",
      "metadata": {
        "id": "jrhOYd8JTQ-B",
        "colab_type": "text"
      },
      "source": [
        "Conv2d layer expects `in_channels` while the Linear layer expects `in_features`.  \n",
        "\n",
        "Bottom line is, that PyTorch expects different things from a tensor dimension.  \n",
        "Specifically,  \n",
        "```\n",
        "\"\"\"Example tensor size outputs, how PyTorch reads them, and where you encounter them in the wild. \n",
        "Note: the values below are only examples. Focus on the rank of the tensor (how many dimensions it has).\"\"\"\n",
        ">>> torch.Size([32])\n",
        "    # 1d: [batch_size] \n",
        "    # use for target labels or predictions.\n",
        ">>> torch.Size([12, 256])\n",
        "    # 2d: [batch_size, num_features (aka: C * H * W)]\n",
        "    # use for as nn.Linear() input.\n",
        ">>> torch.Size([10, 1, 2048])\n",
        "    # 3d: [batch_size, channels, num_features (aka: H * W)]\n",
        "    # when used as nn.Conv1d() input.\n",
        "    # (but [seq_len, batch_size, num_features]\n",
        "    # if feeding an RNN).\n",
        ">>> torch.Size([16, 3, 28, 28])\n",
        "    # 4d: [batch_size, channels, height, width]\n",
        "    # use for as nn.Conv2d() input.\n",
        ">>>  torch.Size([32, 1, 5, 15, 15])\n",
        "    # 5D: [batch_size, channels, depth, height, width]\n",
        "    # use for as nn.Conv3d() input.\n",
        "```    \n",
        "\n",
        "A neat method to make your tensors ready for the linear layer,  \n",
        "```\n",
        "Use view() to change your tensor’s dimensions.\n",
        "\n",
        "image = image.view(batch_size, -1)\n",
        "\n",
        "You supply your batch_size as the first number, and then “-1” basically tells Pytorch, “you figure out this other number for me… please.” \n",
        "Your tensor will now feed properly into any linear layer.\n",
        "```\n",
        "\n",
        "[Incredible Tutorial on PyTorch Layer Dimensions.](https://towardsdatascience.com/pytorch-layer-dimensions-what-sizes-should-they-be-and-why-4265a41e01fd)"
      ]
    },
    {
      "cell_type": "markdown",
      "metadata": {
        "id": "ouQTXZetn53I",
        "colab_type": "text"
      },
      "source": [
        "Before we start,  \n",
        "1. What is the shape (dimensions) of our images?  \n",
        "2. What is the shape of our batches? \n",
        "3. How many _'channels'_ are there in our images? "
      ]
    },
    {
      "cell_type": "code",
      "metadata": {
        "id": "I-McCK6u3WnN",
        "colab_type": "code",
        "colab": {}
      },
      "source": [
        "import torch.nn as nn # nn module contains all the layers \n",
        "import torch.nn.functional as F # same as nn, but a little different "
      ],
      "execution_count": 0,
      "outputs": []
    },
    {
      "cell_type": "code",
      "metadata": {
        "id": "AtUDongrrJlj",
        "colab_type": "code",
        "colab": {}
      },
      "source": [
        "# Our CNN based neural architecture \n",
        "# Let's build a simple one with only Convolutional, Linear \n",
        "# and dropout layers\n",
        "class MNISTModel1(nn.Module):\n",
        "    # Here we define the neural architecture \n",
        "    def __init__(self):\n",
        "        super(MNISTModel1, self).__init__() # Initialize the nn module \n",
        "        \n",
        "        # Convolutional Layers\n",
        "        # What shape/dimensions the first layer is going to see? \n",
        "        # Do we need to have some padding for a kernel_size = 3?  \n",
        "        # Input Features = 1 x 28 x 28\n",
        "        # Output Features = ???\n",
        "        # Shape of a Convolutional Layer = (W - K + 2P)\n",
        "        #                                  ------------ + 1\n",
        "        #                                       S\n",
        "        # where, \n",
        "        #       W = Width/Height of previous layer = 28\n",
        "        #       K = Filter Size = 3\n",
        "        #       P = Padding = 0\n",
        "        #       S = Stride = 1(default)\n",
        "        # Therefore, \n",
        "        #           if padding = 0\n",
        "        #           Output Shape = ((28 - 3 + 2*0)/1)+1 = 26 \n",
        "        # We want the dimensions to stay the same so that there is no \n",
        "        # loss of information when performing the convolution. \n",
        "        # Hence, \n",
        "        #       if padding = 1\n",
        "        #       Output Shape = ((28 - 3 + 2*1)/1)+1 = 28\n",
        "        # Output Features = 8 x 28 x 28  \n",
        "        self.conv1 = nn.Conv2d(in_channels=1, out_channels=8, kernel_size=3, \\\n",
        "                               stride=1, padding=1)\n",
        "        # Input Features = 8 x 28 x 28\n",
        "        # Output Features = 16 x 28 x 28 | ((28 - 3 + 2*1)/1)+1 = 28\n",
        "        self.conv2 = nn.Conv2d(in_channels=8, out_channels=16, kernel_size=3, \\\n",
        "                               stride=1, padding=1)\n",
        "\n",
        "        # Linear Layers \n",
        "        # What shape the first linear layer is going see?\n",
        "        # What are the total number of features given out by conv2?\n",
        "        # Features = 16 x 28 x 28 = 12544\n",
        "        # Therefore,           \n",
        "        self.linear1 = nn.Linear(in_features=12544, out_features=256)\n",
        "        self.linear2 = nn.Linear(in_features=256, out_features=64)\n",
        "        # Last linear layer should output 10 features as we are \n",
        "        # Classifying the images in 10 categories \n",
        "        self.linear3 = nn.Linear(in_features=64, out_features=10)\n",
        "\n",
        "        # Dropout \n",
        "        self.dropout = nn.Dropout(p=0.25)\n",
        "\n",
        "    # Here we define the 'forward behaviour' of our neural architecture \n",
        "    def forward(self, image_batch):\n",
        "        # This is also the place where we add ACTIVATION functions \n",
        "        image_batch = F.relu(input=self.conv1(image_batch))          \n",
        "        image_batch = F.relu(input=self.conv2(image_batch))  \n",
        "        \n",
        "        # Remember that when passing image_batch through the Linear layers, \n",
        "        # PyTorch expects: \n",
        "        # >>> torch.Size([12, 256]) -> example values \n",
        "            # 2d: [batch_size, num_features (aka: C * H * W)]\n",
        "            # use for nn.Linear() input.   \n",
        "        # Therefore, we need to 'flatten' image_batch\n",
        "        # image_batch = image_batch.view(batch_size, -1) --> batch size ???\n",
        "        flat_image_batch = image_batch.view(image_batch.shape[0], -1)\n",
        "        flat_image_batch = F.relu(input=self.linear1(flat_image_batch))\n",
        "        # Let's add the dropout too \n",
        "        flat_image_batch = self.dropout(F.relu(input=self.linear2(flat_image_batch)))\n",
        "        # Final Layer of the network \n",
        "        flat_image_batch = F.relu(input=self.linear3(flat_image_batch))\n",
        "        # The output from the final layer is a tensor with 10 'logits'\n",
        "        return flat_image_batch               "
      ],
      "execution_count": 0,
      "outputs": []
    },
    {
      "cell_type": "code",
      "metadata": {
        "id": "DtUFlNAd5lhN",
        "colab_type": "code",
        "colab": {
          "base_uri": "https://localhost:8080/",
          "height": 391
        },
        "outputId": "79a49789-ca46-4abd-9d7c-585fcf6497bf"
      },
      "source": [
        "# We can make the use of torchsummary libaray here to figure \n",
        "# if we have done something wrong \n",
        "\n",
        "# But first we need to tell PyTorch where to 'keep' the model \n",
        "# On GPU or on CPU \n",
        "device = torch.device(\"cuda\" if torch.cuda.is_available() else \"cpu\") \n",
        "print('The model will run on', device)\n",
        "\n",
        "mnist1 = MNISTModel1().to(device)\n",
        "summary(model=mnist1, input_size=(1, 28, 28), batch_size=20)"
      ],
      "execution_count": 105,
      "outputs": [
        {
          "output_type": "stream",
          "text": [
            "The model will run on cpu\n",
            "----------------------------------------------------------------\n",
            "        Layer (type)               Output Shape         Param #\n",
            "================================================================\n",
            "            Conv2d-1            [20, 8, 28, 28]              80\n",
            "            Conv2d-2           [20, 16, 28, 28]           1,168\n",
            "            Linear-3                  [20, 256]       3,211,520\n",
            "            Linear-4                   [20, 64]          16,448\n",
            "           Dropout-5                   [20, 64]               0\n",
            "            Linear-6                   [20, 10]             650\n",
            "================================================================\n",
            "Total params: 3,229,866\n",
            "Trainable params: 3,229,866\n",
            "Non-trainable params: 0\n",
            "----------------------------------------------------------------\n",
            "Input size (MB): 0.06\n",
            "Forward/backward pass size (MB): 2.93\n",
            "Params size (MB): 12.32\n",
            "Estimated Total Size (MB): 15.31\n",
            "----------------------------------------------------------------\n"
          ],
          "name": "stdout"
        }
      ]
    },
    {
      "cell_type": "markdown",
      "metadata": {
        "id": "kyTvkdq3gqHM",
        "colab_type": "text"
      },
      "source": [
        "That was a lot of work.....Whew!  \n",
        "\n",
        "_***Q: Isn't there an 'easier' way to define the Model?***_  \n",
        "A: _**Yes, absolutely!**_  \n",
        "Say hello to the [torchlayers library !!!](https://github.com/szymonmaszke/torchlayers)  \n",
        "With torchlayers, the above code will be reduced to about 7-8 lines!  \n",
        "But unfortunately, [torchlayers requires Python 3.7](https://github.com/szymonmaszke/torchlayers/issues/5) and above. Colab only  \n",
        "supports Python 3.6.x. \n",
        "\n"
      ]
    },
    {
      "cell_type": "markdown",
      "metadata": {
        "id": "YljS2tiRlHql",
        "colab_type": "text"
      },
      "source": [
        "With our model definition complete, it is time to train! "
      ]
    },
    {
      "cell_type": "code",
      "metadata": {
        "id": "-EwMBpBtKE7w",
        "colab_type": "code",
        "colab": {}
      },
      "source": [
        ""
      ],
      "execution_count": 0,
      "outputs": []
    }
  ]
}